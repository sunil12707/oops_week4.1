{
  "cells": [
    {
      "cell_type": "markdown",
      "metadata": {
        "id": "5f5f44dc-7790-4d76-ba0d-81b27963d2d9"
      },
      "source": [
        "\"Oops\" stands for Object-Oriented Programming System"
      ],
      "id": "5f5f44dc-7790-4d76-ba0d-81b27963d2d9"
    },
    {
      "cell_type": "code",
      "source": [
        "#every thing in python is an object"
      ],
      "metadata": {
        "id": "ct_NS29EFlJh"
      },
      "id": "ct_NS29EFlJh",
      "execution_count": null,
      "outputs": []
    },
    {
      "cell_type": "code",
      "source": [
        "a=[1,2,3,4]\n",
        "a.\n"
      ],
      "metadata": {
        "id": "ZGo34TWumIye"
      },
      "id": "ZGo34TWumIye",
      "execution_count": null,
      "outputs": []
    },
    {
      "cell_type": "code",
      "source": [],
      "metadata": {
        "id": "eD87rol2mJV0"
      },
      "id": "eD87rol2mJV0",
      "execution_count": null,
      "outputs": []
    },
    {
      "cell_type": "code",
      "source": [
        "len(\"sunil\")"
      ],
      "metadata": {
        "colab": {
          "base_uri": "https://localhost:8080/"
        },
        "id": "wORceapBFTVG",
        "outputId": "2cb97589-8bf3-45c9-a1ff-664ff8ca752b"
      },
      "id": "wORceapBFTVG",
      "execution_count": null,
      "outputs": [
        {
          "output_type": "execute_result",
          "data": {
            "text/plain": [
              "5"
            ]
          },
          "metadata": {},
          "execution_count": 1
        }
      ]
    },
    {
      "cell_type": "code",
      "source": [
        "len([1,2,3,4])"
      ],
      "metadata": {
        "id": "99I6hRI25BLy",
        "colab": {
          "base_uri": "https://localhost:8080/"
        },
        "outputId": "345368bc-a5ed-4113-d6a2-5375aecee32d"
      },
      "id": "99I6hRI25BLy",
      "execution_count": null,
      "outputs": [
        {
          "output_type": "execute_result",
          "data": {
            "text/plain": [
              "4"
            ]
          },
          "metadata": {},
          "execution_count": 2
        }
      ]
    },
    {
      "cell_type": "code",
      "source": [
        "a=[1,2,3]\n"
      ],
      "metadata": {
        "id": "Qdg1ZiYb5BPh"
      },
      "id": "Qdg1ZiYb5BPh",
      "execution_count": null,
      "outputs": []
    },
    {
      "cell_type": "code",
      "source": [
        "a=[1,2,3,4]\n",
        "a.lower()"
      ],
      "metadata": {
        "colab": {
          "base_uri": "https://localhost:8080/",
          "height": 192
        },
        "id": "2tE7HwdZoQ2e",
        "outputId": "4a29f952-202d-4c48-9ed8-bf2d0056c7bc"
      },
      "id": "2tE7HwdZoQ2e",
      "execution_count": null,
      "outputs": [
        {
          "output_type": "error",
          "ename": "AttributeError",
          "evalue": "ignored",
          "traceback": [
            "\u001b[0;31m---------------------------------------------------------------------------\u001b[0m",
            "\u001b[0;31mAttributeError\u001b[0m                            Traceback (most recent call last)",
            "\u001b[0;32m<ipython-input-3-8253bb23d843>\u001b[0m in \u001b[0;36m<cell line: 2>\u001b[0;34m()\u001b[0m\n\u001b[1;32m      1\u001b[0m \u001b[0ma\u001b[0m\u001b[0;34m=\u001b[0m\u001b[0;34m[\u001b[0m\u001b[0;36m1\u001b[0m\u001b[0;34m,\u001b[0m\u001b[0;36m2\u001b[0m\u001b[0;34m,\u001b[0m\u001b[0;36m3\u001b[0m\u001b[0;34m,\u001b[0m\u001b[0;36m4\u001b[0m\u001b[0;34m]\u001b[0m\u001b[0;34m\u001b[0m\u001b[0;34m\u001b[0m\u001b[0m\n\u001b[0;32m----> 2\u001b[0;31m \u001b[0ma\u001b[0m\u001b[0;34m.\u001b[0m\u001b[0mlower\u001b[0m\u001b[0;34m(\u001b[0m\u001b[0;34m)\u001b[0m\u001b[0;34m\u001b[0m\u001b[0;34m\u001b[0m\u001b[0m\n\u001b[0m",
            "\u001b[0;31mAttributeError\u001b[0m: 'list' object has no attribute 'lower'"
          ]
        }
      ]
    },
    {
      "cell_type": "code",
      "source": [
        "a=(1,2,3,4)\n",
        "a.lower()"
      ],
      "metadata": {
        "colab": {
          "base_uri": "https://localhost:8080/",
          "height": 192
        },
        "id": "Ek9fVToIoQ5_",
        "outputId": "0442bc30-1102-453d-fd58-e2cc3efa67ba"
      },
      "id": "Ek9fVToIoQ5_",
      "execution_count": null,
      "outputs": [
        {
          "output_type": "error",
          "ename": "AttributeError",
          "evalue": "ignored",
          "traceback": [
            "\u001b[0;31m---------------------------------------------------------------------------\u001b[0m",
            "\u001b[0;31mAttributeError\u001b[0m                            Traceback (most recent call last)",
            "\u001b[0;32m<ipython-input-4-453e1977b6a1>\u001b[0m in \u001b[0;36m<cell line: 2>\u001b[0;34m()\u001b[0m\n\u001b[1;32m      1\u001b[0m \u001b[0ma\u001b[0m\u001b[0;34m=\u001b[0m\u001b[0;34m(\u001b[0m\u001b[0;36m1\u001b[0m\u001b[0;34m,\u001b[0m\u001b[0;36m2\u001b[0m\u001b[0;34m,\u001b[0m\u001b[0;36m3\u001b[0m\u001b[0;34m,\u001b[0m\u001b[0;36m4\u001b[0m\u001b[0;34m)\u001b[0m\u001b[0;34m\u001b[0m\u001b[0;34m\u001b[0m\u001b[0m\n\u001b[0;32m----> 2\u001b[0;31m \u001b[0ma\u001b[0m\u001b[0;34m.\u001b[0m\u001b[0mlower\u001b[0m\u001b[0;34m(\u001b[0m\u001b[0;34m)\u001b[0m\u001b[0;34m\u001b[0m\u001b[0;34m\u001b[0m\u001b[0m\n\u001b[0m",
            "\u001b[0;31mAttributeError\u001b[0m: 'tuple' object has no attribute 'lower'"
          ]
        }
      ]
    },
    {
      "cell_type": "code",
      "source": [
        "a=\"sunil\"\n",
        "a.append(\"a\")"
      ],
      "metadata": {
        "colab": {
          "base_uri": "https://localhost:8080/",
          "height": 192
        },
        "id": "FVhtTRqtoQ9B",
        "outputId": "fc41806c-2870-4439-e005-407fd3ea8a1f"
      },
      "id": "FVhtTRqtoQ9B",
      "execution_count": null,
      "outputs": [
        {
          "output_type": "error",
          "ename": "AttributeError",
          "evalue": "ignored",
          "traceback": [
            "\u001b[0;31m---------------------------------------------------------------------------\u001b[0m",
            "\u001b[0;31mAttributeError\u001b[0m                            Traceback (most recent call last)",
            "\u001b[0;32m<ipython-input-5-c92c196422e0>\u001b[0m in \u001b[0;36m<cell line: 2>\u001b[0;34m()\u001b[0m\n\u001b[1;32m      1\u001b[0m \u001b[0ma\u001b[0m\u001b[0;34m=\u001b[0m\u001b[0;34m\"sunil\"\u001b[0m\u001b[0;34m\u001b[0m\u001b[0;34m\u001b[0m\u001b[0m\n\u001b[0;32m----> 2\u001b[0;31m \u001b[0ma\u001b[0m\u001b[0;34m.\u001b[0m\u001b[0mappend\u001b[0m\u001b[0;34m(\u001b[0m\u001b[0;34m\"a\"\u001b[0m\u001b[0;34m)\u001b[0m\u001b[0;34m\u001b[0m\u001b[0;34m\u001b[0m\u001b[0m\n\u001b[0m",
            "\u001b[0;31mAttributeError\u001b[0m: 'str' object has no attribute 'append'"
          ]
        }
      ]
    },
    {
      "cell_type": "code",
      "source": [
        "a=5\n",
        "print(type(a))"
      ],
      "metadata": {
        "colab": {
          "base_uri": "https://localhost:8080/"
        },
        "id": "bQ4lgDkzoRBj",
        "outputId": "43002a64-307a-4e17-c18d-d16bf9b4b070"
      },
      "id": "bQ4lgDkzoRBj",
      "execution_count": null,
      "outputs": [
        {
          "output_type": "stream",
          "name": "stdout",
          "text": [
            "<class 'int'>\n"
          ]
        }
      ]
    },
    {
      "cell_type": "code",
      "execution_count": null,
      "metadata": {
        "id": "49ff14d3-8b20-49f5-808e-68a7a94b13ce"
      },
      "outputs": [],
      "source": [
        "a = 1"
      ],
      "id": "49ff14d3-8b20-49f5-808e-68a7a94b13ce"
    },
    {
      "cell_type": "code",
      "execution_count": null,
      "metadata": {
        "id": "b4c9b3bb-6a88-49c7-9bd0-b012fc62a6fa",
        "outputId": "c32deed3-842b-4422-ac26-9f7f273ed9b9",
        "colab": {
          "base_uri": "https://localhost:8080/"
        }
      },
      "outputs": [
        {
          "output_type": "stream",
          "name": "stdout",
          "text": [
            "<class 'int'>\n"
          ]
        }
      ],
      "source": [
        "print(type(a))"
      ],
      "id": "b4c9b3bb-6a88-49c7-9bd0-b012fc62a6fa"
    },
    {
      "cell_type": "code",
      "source": [
        "d=[1,2,3]\n",
        "print(type(d))"
      ],
      "metadata": {
        "colab": {
          "base_uri": "https://localhost:8080/"
        },
        "id": "0-Ni13x3E21G",
        "outputId": "d7016a51-0095-4aa2-9ddc-a62c5477e942"
      },
      "id": "0-Ni13x3E21G",
      "execution_count": null,
      "outputs": [
        {
          "output_type": "stream",
          "name": "stdout",
          "text": [
            "<class 'list'>\n"
          ]
        }
      ]
    },
    {
      "cell_type": "code",
      "execution_count": null,
      "metadata": {
        "colab": {
          "base_uri": "https://localhost:8080/"
        },
        "id": "4a57160b-1454-4574-b833-e4e58c5e2536",
        "outputId": "92bab2bf-b839-42b4-84b3-8c0ad9f5703c"
      },
      "outputs": [
        {
          "name": "stdout",
          "output_type": "stream",
          "text": [
            "<class 'str'>\n"
          ]
        }
      ],
      "source": [
        "print(type(\"Sunil\"))"
      ],
      "id": "4a57160b-1454-4574-b833-e4e58c5e2536"
    },
    {
      "cell_type": "code",
      "source": [
        "class test:\n",
        "  fjh\n"
      ],
      "metadata": {
        "colab": {
          "base_uri": "https://localhost:8080/",
          "height": 262
        },
        "id": "Vmadw97oIbbw",
        "outputId": "0e5c06d4-da3b-4971-f500-ee9b871e6a73"
      },
      "id": "Vmadw97oIbbw",
      "execution_count": null,
      "outputs": [
        {
          "output_type": "error",
          "ename": "NameError",
          "evalue": "ignored",
          "traceback": [
            "\u001b[0;31m---------------------------------------------------------------------------\u001b[0m",
            "\u001b[0;31mNameError\u001b[0m                                 Traceback (most recent call last)",
            "\u001b[0;32m<ipython-input-7-9458c4c8eac4>\u001b[0m in \u001b[0;36m<cell line: 1>\u001b[0;34m()\u001b[0m\n\u001b[0;32m----> 1\u001b[0;31m \u001b[0;32mclass\u001b[0m \u001b[0mtest\u001b[0m\u001b[0;34m:\u001b[0m\u001b[0;34m\u001b[0m\u001b[0;34m\u001b[0m\u001b[0m\n\u001b[0m\u001b[1;32m      2\u001b[0m   \u001b[0mfjh\u001b[0m\u001b[0;34m\u001b[0m\u001b[0;34m\u001b[0m\u001b[0m\n",
            "\u001b[0;32m<ipython-input-7-9458c4c8eac4>\u001b[0m in \u001b[0;36mtest\u001b[0;34m()\u001b[0m\n\u001b[1;32m      1\u001b[0m \u001b[0;32mclass\u001b[0m \u001b[0mtest\u001b[0m\u001b[0;34m:\u001b[0m\u001b[0;34m\u001b[0m\u001b[0;34m\u001b[0m\u001b[0m\n\u001b[0;32m----> 2\u001b[0;31m   \u001b[0mfjh\u001b[0m\u001b[0;34m\u001b[0m\u001b[0;34m\u001b[0m\u001b[0m\n\u001b[0m",
            "\u001b[0;31mNameError\u001b[0m: name 'fjh' is not defined"
          ]
        }
      ]
    },
    {
      "cell_type": "code",
      "source": [
        "class punjab:\n",
        "  pass\n",
        "\n",
        "ropar=punjab()"
      ],
      "metadata": {
        "id": "L8ghrNkghk52"
      },
      "id": "L8ghrNkghk52",
      "execution_count": null,
      "outputs": []
    },
    {
      "cell_type": "markdown",
      "source": [
        "print(type(ropar))"
      ],
      "metadata": {
        "id": "bC7Ot4eaiYdg"
      },
      "id": "bC7Ot4eaiYdg"
    },
    {
      "cell_type": "code",
      "source": [
        "\n",
        "class astrabytes:\n",
        "  def welcome_msg(self):\n",
        "    print(\"welcome to astrabytes\")\n",
        "  def gurdaspur(self):\n",
        "    print(\"welcome to gurdaspur\")\n",
        "\n",
        "parveen=astrabytes()\n",
        "parveen.welcome_msg()\n",
        "neesha=astrabytes()\n",
        "neesha.welcome_msg()\n",
        "Sahil=astrabytes()\n",
        "sunil=astrabytes()\n",
        "sunil.gurdaspur()\n",
        "neesha.\n"
      ],
      "metadata": {
        "colab": {
          "base_uri": "https://localhost:8080/"
        },
        "id": "kgX2BpvojkRn",
        "outputId": "7bf04fa8-df53-40e5-8a12-9ae62b564a9d"
      },
      "id": "kgX2BpvojkRn",
      "execution_count": null,
      "outputs": [
        {
          "output_type": "stream",
          "name": "stdout",
          "text": [
            "welcome to astrabytes\n",
            "welcome to astrabytes\n",
            "welcome to gurdaspur\n"
          ]
        }
      ]
    },
    {
      "cell_type": "code",
      "source": [
        "Sahil.welcome_msg()"
      ],
      "metadata": {
        "colab": {
          "base_uri": "https://localhost:8080/"
        },
        "id": "eZ9ASiBalUhi",
        "outputId": "bf75f7f3-1b43-4255-c277-1f0aa2a43ab8"
      },
      "id": "eZ9ASiBalUhi",
      "execution_count": null,
      "outputs": [
        {
          "output_type": "stream",
          "name": "stdout",
          "text": [
            "welcome to astrabytes\n"
          ]
        }
      ]
    },
    {
      "cell_type": "code",
      "execution_count": null,
      "metadata": {
        "id": "d6cb2c14-823d-436b-85a2-1afa2266e1d1"
      },
      "outputs": [],
      "source": [
        "#blank class\n",
        "class Test:\n",
        "  pass\n",
        "math=Test()\n",
        "\n"
      ],
      "id": "d6cb2c14-823d-436b-85a2-1afa2266e1d1"
    },
    {
      "cell_type": "markdown",
      "source": [
        "class SpaceWindow:\n",
        "  pass\n",
        "comapny=SpaceWindow()\n",
        "print(type(comapny))"
      ],
      "metadata": {
        "id": "fYRxpfkOGs8J"
      },
      "id": "fYRxpfkOGs8J"
    },
    {
      "cell_type": "code",
      "source": [
        "class phone:\n",
        "  def Iphone(sefl):\n",
        "    print(\" i will buy i phone\")\n",
        "  def samsung(self):\n",
        "    print(\"this is samsung phone\")\n",
        "sahil=phone()\n",
        "sahil.Iphone()\n",
        "nesha=phone()\n",
        "nesha.samsung()\n",
        "nesha.Iphone()"
      ],
      "metadata": {
        "colab": {
          "base_uri": "https://localhost:8080/"
        },
        "id": "66082QO7JWsk",
        "outputId": "bc5d894f-93fb-4bf5-db07-4b27d9de9867"
      },
      "id": "66082QO7JWsk",
      "execution_count": null,
      "outputs": [
        {
          "output_type": "stream",
          "name": "stdout",
          "text": [
            " i will buy i phone\n",
            "this is samsung phone\n",
            " i will buy i phone\n"
          ]
        }
      ]
    },
    {
      "cell_type": "code",
      "source": [
        "comapny=SpaceWindow()"
      ],
      "metadata": {
        "id": "48CSqkXyGs_t"
      },
      "id": "48CSqkXyGs_t",
      "execution_count": null,
      "outputs": []
    },
    {
      "cell_type": "code",
      "execution_count": null,
      "metadata": {
        "id": "fa923333-3e3e-48b3-b7e4-6efb819c3f58"
      },
      "outputs": [],
      "source": [
        "# OBJECT\n",
        "a = Test()"
      ],
      "id": "fa923333-3e3e-48b3-b7e4-6efb819c3f58"
    },
    {
      "cell_type": "code",
      "execution_count": null,
      "metadata": {
        "id": "f9719db9-e4c2-4e21-aa9d-9f4afbda8874",
        "outputId": "a8d50352-6ce3-4c41-9d54-fce4aecf77b1",
        "colab": {
          "base_uri": "https://localhost:8080/"
        }
      },
      "outputs": [
        {
          "output_type": "execute_result",
          "data": {
            "text/plain": [
              "__main__.Test"
            ]
          },
          "metadata": {},
          "execution_count": 13
        }
      ],
      "source": [
        "type(a)"
      ],
      "id": "f9719db9-e4c2-4e21-aa9d-9f4afbda8874"
    },
    {
      "cell_type": "code",
      "execution_count": null,
      "metadata": {
        "id": "44f474ba-e47a-437f-b7b5-4645e308d598",
        "outputId": "2588dae0-6ef9-4b48-bece-57643e575cc7",
        "colab": {
          "base_uri": "https://localhost:8080/"
        }
      },
      "outputs": [
        {
          "output_type": "stream",
          "name": "stdout",
          "text": [
            "<class '__main__.test'>\n"
          ]
        }
      ],
      "source": [
        "print(type(a))"
      ],
      "id": "44f474ba-e47a-437f-b7b5-4645e308d598"
    },
    {
      "cell_type": "code",
      "source": [
        "class Space :\n",
        "\n",
        "    def welcome_msg():\n",
        "        print(\"welcome to space_winsow \")\n",
        "parthav=Space()\n",
        "# anisha=Space()\n",
        "parthav.welcome_msg()\n",
        "# anisha.welcome_msg()\n"
      ],
      "metadata": {
        "colab": {
          "base_uri": "https://localhost:8080/",
          "height": 227
        },
        "id": "XHqCk8ye724f",
        "outputId": "786d2f76-2a0f-463e-deec-647443428bf9"
      },
      "id": "XHqCk8ye724f",
      "execution_count": null,
      "outputs": [
        {
          "output_type": "error",
          "ename": "TypeError",
          "evalue": "ignored",
          "traceback": [
            "\u001b[0;31m---------------------------------------------------------------------------\u001b[0m",
            "\u001b[0;31mTypeError\u001b[0m                                 Traceback (most recent call last)",
            "\u001b[0;32m<ipython-input-19-ac380e837059>\u001b[0m in \u001b[0;36m<cell line: 7>\u001b[0;34m()\u001b[0m\n\u001b[1;32m      5\u001b[0m \u001b[0mparthav\u001b[0m\u001b[0;34m=\u001b[0m\u001b[0mSpace\u001b[0m\u001b[0;34m(\u001b[0m\u001b[0;34m)\u001b[0m\u001b[0;34m\u001b[0m\u001b[0;34m\u001b[0m\u001b[0m\n\u001b[1;32m      6\u001b[0m \u001b[0;31m# anisha=Space()\u001b[0m\u001b[0;34m\u001b[0m\u001b[0;34m\u001b[0m\u001b[0m\n\u001b[0;32m----> 7\u001b[0;31m \u001b[0mparthav\u001b[0m\u001b[0;34m.\u001b[0m\u001b[0mwelcome_msg\u001b[0m\u001b[0;34m(\u001b[0m\u001b[0;34m)\u001b[0m\u001b[0;34m\u001b[0m\u001b[0;34m\u001b[0m\u001b[0m\n\u001b[0m\u001b[1;32m      8\u001b[0m \u001b[0;31m# anisha.welcome_msg()\u001b[0m\u001b[0;34m\u001b[0m\u001b[0;34m\u001b[0m\u001b[0m\n",
            "\u001b[0;31mTypeError\u001b[0m: Space.welcome_msg() takes 0 positional arguments but 1 was given"
          ]
        }
      ]
    },
    {
      "cell_type": "code",
      "execution_count": null,
      "metadata": {
        "id": "8ipDJTQ-54zb",
        "colab": {
          "base_uri": "https://localhost:8080/"
        },
        "outputId": "f0a7f56e-add1-4199-8693-776e713b9685"
      },
      "outputs": [
        {
          "output_type": "stream",
          "name": "stdout",
          "text": [
            "welcome to space_winsow \n",
            "welcome to space_winsow \n"
          ]
        }
      ],
      "source": [
        "class Space :\n",
        "\n",
        "    def welcome_msg(self):\n",
        "        print(\"welcome to space_winsow \")\n",
        "parthav=Space()\n",
        "anisha=Space()\n",
        "parthav.welcome_msg()\n",
        "anisha.welcome_msg()\n"
      ],
      "id": "8ipDJTQ-54zb"
    },
    {
      "cell_type": "code",
      "execution_count": null,
      "metadata": {
        "id": "zj-1AjUu6OJr"
      },
      "outputs": [],
      "source": [
        "rohan=Space()\n"
      ],
      "id": "zj-1AjUu6OJr"
    },
    {
      "cell_type": "code",
      "execution_count": null,
      "metadata": {
        "colab": {
          "base_uri": "https://localhost:8080/"
        },
        "id": "mLczu4cc6aeo",
        "outputId": "2c992d1e-6b0d-4b5c-f328-96868d000a51"
      },
      "outputs": [
        {
          "output_type": "stream",
          "name": "stdout",
          "text": [
            "welcome to space_winsow \n"
          ]
        }
      ],
      "source": [
        "rohan.welcome_msg()"
      ],
      "id": "mLczu4cc6aeo"
    },
    {
      "cell_type": "code",
      "source": [
        "class College:\n",
        "  def college_name(a):\n",
        "    print(\"sri guru granth sahib world uni\")\n",
        "sunil=College()\n",
        "sunil.college_name()"
      ],
      "metadata": {
        "colab": {
          "base_uri": "https://localhost:8080/"
        },
        "id": "_rMsi7-4frxE",
        "outputId": "282747b8-9bba-4a77-dbac-af17fcfe794f"
      },
      "id": "_rMsi7-4frxE",
      "execution_count": null,
      "outputs": [
        {
          "output_type": "stream",
          "name": "stdout",
          "text": [
            "sri guru granth sahib world uni\n"
          ]
        }
      ]
    },
    {
      "cell_type": "code",
      "source": [
        "\n",
        "simran=College()\n",
        "simran.college_name()"
      ],
      "metadata": {
        "colab": {
          "base_uri": "https://localhost:8080/"
        },
        "id": "6b4HeVlAfr0a",
        "outputId": "c44a2624-1333-4f4d-d355-9c0275130cf9"
      },
      "id": "6b4HeVlAfr0a",
      "execution_count": null,
      "outputs": [
        {
          "output_type": "stream",
          "name": "stdout",
          "text": [
            "sri guru granth sahib world uni\n"
          ]
        }
      ]
    },
    {
      "cell_type": "code",
      "source": [
        "def avgspeed():\n",
        "    pass"
      ],
      "metadata": {
        "id": "6kCTd3i443P-"
      },
      "id": "6kCTd3i443P-",
      "execution_count": null,
      "outputs": []
    },
    {
      "cell_type": "code",
      "source": [
        "class Car:\n",
        "  color=\"Red\"\n",
        "  model=\"sport\"\n",
        "  def avgspeed(a):\n",
        "    pass\n",
        "alto=Car()"
      ],
      "metadata": {
        "id": "VZ1d1bhNfr3Q"
      },
      "id": "VZ1d1bhNfr3Q",
      "execution_count": null,
      "outputs": []
    },
    {
      "cell_type": "code",
      "execution_count": null,
      "metadata": {
        "colab": {
          "base_uri": "https://localhost:8080/"
        },
        "id": "yM-aL8dVcwYl",
        "outputId": "fbc1e3b5-14ec-434c-e509-c0dc9183113d"
      },
      "outputs": [
        {
          "output_type": "stream",
          "name": "stdout",
          "text": [
            "welcome to space_winsow \n"
          ]
        }
      ],
      "source": [
        "class Space :\n",
        "\n",
        "    def welcome_msg(a):\n",
        "        print(\"welcome to space_winsow \")\n",
        "anisha=Space()\n",
        "anisha.welcome_msg()\n",
        "\n"
      ],
      "id": "yM-aL8dVcwYl"
    },
    {
      "cell_type": "code",
      "execution_count": null,
      "metadata": {
        "id": "e974ee5e-1cd8-4761-9f6b-371a697e7312",
        "colab": {
          "base_uri": "https://localhost:8080/"
        },
        "outputId": "e868c727-d7dc-4de3-8121-42d569aedff5"
      },
      "outputs": [
        {
          "output_type": "stream",
          "name": "stdout",
          "text": [
            "welcome to space_window \n"
          ]
        }
      ],
      "source": [
        "class Space :\n",
        "\n",
        "    def welcome_msg(self):\n",
        "        print(\"welcome to space_window \")\n",
        "parthav=Space()\n",
        "parthav.welcome_msg()"
      ],
      "id": "e974ee5e-1cd8-4761-9f6b-371a697e7312"
    },
    {
      "cell_type": "code",
      "source": [
        "print(type(parthav))"
      ],
      "metadata": {
        "colab": {
          "base_uri": "https://localhost:8080/"
        },
        "id": "7AM_1S6ThlV4",
        "outputId": "2d86dae6-d9d8-4380-c8c0-6a3b2b5664ea"
      },
      "id": "7AM_1S6ThlV4",
      "execution_count": null,
      "outputs": [
        {
          "output_type": "stream",
          "name": "stdout",
          "text": [
            "<class '__main__.Space'>\n"
          ]
        }
      ]
    },
    {
      "cell_type": "code",
      "execution_count": null,
      "metadata": {
        "id": "ea7a2d40-9e31-4a6b-b9c7-0797542b2e17"
      },
      "outputs": [],
      "source": [
        "rohan = Space()"
      ],
      "id": "ea7a2d40-9e31-4a6b-b9c7-0797542b2e17"
    },
    {
      "cell_type": "code",
      "execution_count": null,
      "metadata": {
        "colab": {
          "base_uri": "https://localhost:8080/"
        },
        "id": "9d8358d5-2a20-41e0-92ce-f994677f5d54",
        "outputId": "7444df44-43d9-46d1-f87c-e4d9edced5df"
      },
      "outputs": [
        {
          "output_type": "stream",
          "name": "stdout",
          "text": [
            "<class '__main__.Space'>\n"
          ]
        }
      ],
      "source": [
        "print(type(rohan))"
      ],
      "id": "9d8358d5-2a20-41e0-92ce-f994677f5d54"
    },
    {
      "cell_type": "code",
      "execution_count": null,
      "metadata": {
        "colab": {
          "base_uri": "https://localhost:8080/"
        },
        "id": "0097bd0b-70cc-4d25-97e0-8ccc1e77974c",
        "outputId": "2cd462f5-ab7f-4414-c205-bd8a3de661b0"
      },
      "outputs": [
        {
          "output_type": "stream",
          "name": "stdout",
          "text": [
            "welcome to space_window \n"
          ]
        }
      ],
      "source": [
        "rohan.welcome_msg()"
      ],
      "id": "0097bd0b-70cc-4d25-97e0-8ccc1e77974c"
    },
    {
      "cell_type": "code",
      "execution_count": null,
      "metadata": {
        "id": "957ceef9-bc00-4ec8-a2a7-c8a2c5a7cb2a"
      },
      "outputs": [],
      "source": [
        "gaurav = Space()"
      ],
      "id": "957ceef9-bc00-4ec8-a2a7-c8a2c5a7cb2a"
    },
    {
      "cell_type": "code",
      "execution_count": null,
      "metadata": {
        "colab": {
          "base_uri": "https://localhost:8080/"
        },
        "id": "df1dd42c-c88f-4f1e-abb8-13462e51fe02",
        "outputId": "9e1d0c99-ce33-4c9e-a3c7-0846f0aa1fa5"
      },
      "outputs": [
        {
          "output_type": "stream",
          "name": "stdout",
          "text": [
            "welcome to space_window \n"
          ]
        }
      ],
      "source": [
        "gaurav.welcome_msg()"
      ],
      "id": "df1dd42c-c88f-4f1e-abb8-13462e51fe02"
    },
    {
      "cell_type": "code",
      "source": [
        "dir(list)"
      ],
      "metadata": {
        "colab": {
          "base_uri": "https://localhost:8080/"
        },
        "id": "dmGmTplYNm0P",
        "outputId": "117af36e-e07f-422e-9949-2247541c6b2a"
      },
      "id": "dmGmTplYNm0P",
      "execution_count": null,
      "outputs": [
        {
          "output_type": "execute_result",
          "data": {
            "text/plain": [
              "['__add__',\n",
              " '__class__',\n",
              " '__class_getitem__',\n",
              " '__contains__',\n",
              " '__delattr__',\n",
              " '__delitem__',\n",
              " '__dir__',\n",
              " '__doc__',\n",
              " '__eq__',\n",
              " '__format__',\n",
              " '__ge__',\n",
              " '__getattribute__',\n",
              " '__getitem__',\n",
              " '__gt__',\n",
              " '__hash__',\n",
              " '__iadd__',\n",
              " '__imul__',\n",
              " '__init__',\n",
              " '__init_subclass__',\n",
              " '__iter__',\n",
              " '__le__',\n",
              " '__len__',\n",
              " '__lt__',\n",
              " '__mul__',\n",
              " '__ne__',\n",
              " '__new__',\n",
              " '__reduce__',\n",
              " '__reduce_ex__',\n",
              " '__repr__',\n",
              " '__reversed__',\n",
              " '__rmul__',\n",
              " '__setattr__',\n",
              " '__setitem__',\n",
              " '__sizeof__',\n",
              " '__str__',\n",
              " '__subclasshook__',\n",
              " 'append',\n",
              " 'clear',\n",
              " 'copy',\n",
              " 'count',\n",
              " 'extend',\n",
              " 'index',\n",
              " 'insert',\n",
              " 'pop',\n",
              " 'remove',\n",
              " 'reverse',\n",
              " 'sort']"
            ]
          },
          "metadata": {},
          "execution_count": 69
        }
      ]
    },
    {
      "cell_type": "code",
      "execution_count": null,
      "metadata": {
        "colab": {
          "base_uri": "https://localhost:8080/"
        },
        "id": "2pymMwb-GAgL",
        "outputId": "28cabdc2-0b62-47d4-e2a4-cca9cfe1d905"
      },
      "outputs": [
        {
          "output_type": "stream",
          "name": "stdout",
          "text": [
            "Hello, World!\n"
          ]
        }
      ],
      "source": [
        "class MyClass:\n",
        "    def my_method(self):\n",
        "        print(\"Hello, World!\")\n",
        "\n",
        "# Creating an instance of the class\n",
        "obj = MyClass()\n",
        "\n",
        "# Calling the method of the class\n",
        "obj.my_method()"
      ],
      "id": "2pymMwb-GAgL"
    },
    {
      "cell_type": "code",
      "source": [
        "class MyClass:\n",
        "    def my_method(self,a,b,c):\n",
        "        print(\"Hello, World!\")\n",
        "        print(a+b+c)\n",
        "\n",
        "# Creating an instance of the class\n",
        "obj = MyClass()\n",
        "\n",
        "# Calling the method of the class\n",
        "obj.my_method(2,4,5)"
      ],
      "metadata": {
        "colab": {
          "base_uri": "https://localhost:8080/"
        },
        "id": "ZnC1WAib_xM8",
        "outputId": "45920c60-18f1-4c71-ee0f-bd7406bb202a"
      },
      "id": "ZnC1WAib_xM8",
      "execution_count": null,
      "outputs": [
        {
          "output_type": "stream",
          "name": "stdout",
          "text": [
            "Hello, World!\n",
            "11\n"
          ]
        }
      ]
    },
    {
      "cell_type": "code",
      "source": [
        "class MyClass:\n",
        "    def my_method(self,a,b,c):\n",
        "        print(\"Hello, World!\")\n",
        "        print(a+b+c)\n",
        "\n",
        "# Creating an instance of the class\n",
        "obj = MyClass(2,4,5)\n",
        "\n",
        "# Calling the method of the class\n",
        "obj.my_method()"
      ],
      "metadata": {
        "id": "HWzRqYftM2Lx",
        "colab": {
          "base_uri": "https://localhost:8080/",
          "height": 245
        },
        "outputId": "c3dcce2a-8ed6-41d4-aa86-83574a042d2f"
      },
      "id": "HWzRqYftM2Lx",
      "execution_count": null,
      "outputs": [
        {
          "output_type": "error",
          "ename": "TypeError",
          "evalue": "ignored",
          "traceback": [
            "\u001b[0;31m---------------------------------------------------------------------------\u001b[0m",
            "\u001b[0;31mTypeError\u001b[0m                                 Traceback (most recent call last)",
            "\u001b[0;32m<ipython-input-37-fb4f5de21662>\u001b[0m in \u001b[0;36m<cell line: 7>\u001b[0;34m()\u001b[0m\n\u001b[1;32m      5\u001b[0m \u001b[0;34m\u001b[0m\u001b[0m\n\u001b[1;32m      6\u001b[0m \u001b[0;31m# Creating an instance of the class\u001b[0m\u001b[0;34m\u001b[0m\u001b[0;34m\u001b[0m\u001b[0m\n\u001b[0;32m----> 7\u001b[0;31m \u001b[0mobj\u001b[0m \u001b[0;34m=\u001b[0m \u001b[0mMyClass\u001b[0m\u001b[0;34m(\u001b[0m\u001b[0;36m2\u001b[0m\u001b[0;34m,\u001b[0m\u001b[0;36m4\u001b[0m\u001b[0;34m,\u001b[0m\u001b[0;36m5\u001b[0m\u001b[0;34m)\u001b[0m\u001b[0;34m\u001b[0m\u001b[0;34m\u001b[0m\u001b[0m\n\u001b[0m\u001b[1;32m      8\u001b[0m \u001b[0;34m\u001b[0m\u001b[0m\n\u001b[1;32m      9\u001b[0m \u001b[0;31m# Calling the method of the class\u001b[0m\u001b[0;34m\u001b[0m\u001b[0;34m\u001b[0m\u001b[0m\n",
            "\u001b[0;31mTypeError\u001b[0m: MyClass() takes no arguments"
          ]
        }
      ]
    },
    {
      "cell_type": "markdown",
      "metadata": {
        "id": "Y9SYCwLK94Bp"
      },
      "source": [
        "__init__# constructor ,,It is a special method that is automatically called when an object is created from a class"
      ],
      "id": "Y9SYCwLK94Bp"
    },
    {
      "cell_type": "markdown",
      "metadata": {
        "id": "aBzkIAFA8fjp"
      },
      "source": [
        "**__init__ method allows you to pass more parameters to an object during its creation.\n",
        "\n",
        "When an object is instantiated (created) from a class, the __init__ method is automatically called.\n",
        "\n",
        "By defining the __init__ method, you encapsulate the initialization logic within the class itself\n",
        "**"
      ],
      "id": "aBzkIAFA8fjp"
    },
    {
      "cell_type": "code",
      "execution_count": null,
      "metadata": {
        "colab": {
          "base_uri": "https://localhost:8080/"
        },
        "id": "YMQaEhsz-AsI",
        "outputId": "67b83b87-e69f-4c40-a439-73b0f69e636a"
      },
      "outputs": [
        {
          "output_type": "stream",
          "name": "stdout",
          "text": [
            "helo_world\n",
            "My name is Alice and I am 25 years old.\n"
          ]
        }
      ],
      "source": [
        "class Person:\n",
        "    def __init__(self, name, age):\n",
        "        self.name = name\n",
        "        self.age = age\n",
        "        print(\"helo_world\")\n",
        "\n",
        "    def introduce(self):\n",
        "        print(f\"My name is {self.name} and I am {self.age} years old.\")\n",
        "\n",
        "\n",
        "# Creating an instance of the Person class\n",
        "person1 = Person(\"Alice\", 25)\n",
        "person1.introduce()\n"
      ],
      "id": "YMQaEhsz-AsI"
    },
    {
      "cell_type": "code",
      "source": [
        "class Person:\n",
        "    def __init__(self, name, age):\n",
        "        self.name1 = name\n",
        "        self.age1 = age\n",
        "\n",
        "    def introduce(self):\n",
        "        print(f\"My name is {self.name1} and I am {self.age1} years old.\")\n",
        "\n",
        "\n",
        "# Creating an instance of the Person class\n",
        "person1 = Person(\"Alice\", 25)\n",
        "person1.introduce()\n"
      ],
      "metadata": {
        "colab": {
          "base_uri": "https://localhost:8080/"
        },
        "id": "9SZtucigBcTC",
        "outputId": "9bbb5296-538f-41d0-b670-fdd75fbd2d59"
      },
      "id": "9SZtucigBcTC",
      "execution_count": null,
      "outputs": [
        {
          "output_type": "stream",
          "name": "stdout",
          "text": [
            "My name is Alice and I am 25 years old.\n"
          ]
        }
      ]
    },
    {
      "cell_type": "code",
      "execution_count": null,
      "metadata": {
        "colab": {
          "base_uri": "https://localhost:8080/"
        },
        "id": "HDzYLxkr-AvP",
        "outputId": "d8bfa1c6-4ef9-4e75-aa1d-5e7c0d477c5b"
      },
      "outputs": [
        {
          "output_type": "stream",
          "name": "stdout",
          "text": [
            "Buddy says woof!\n"
          ]
        }
      ],
      "source": [
        "class Dog:\n",
        "    def __init__(self, name):\n",
        "        self.name = name\n",
        "\n",
        "    def bark(self):\n",
        "        print(f\"{self.name} says woof!\")\n",
        "\n",
        "\n",
        "# Creating an instance of the Dog class\n",
        "dog = Dog(\"Buddy\")\n",
        "dog.bark()\n"
      ],
      "id": "HDzYLxkr-AvP"
    },
    {
      "cell_type": "code",
      "source": [
        "class python:\n",
        "  def __init__(self,students_name,student_id):\n",
        "    self.name=students_name\n",
        "    self.stu_id=student_id\n",
        "    N1.class1()\n",
        "  def class1(self):\n",
        "    print(f\"{self.name} and {self.stu_id}\")\n",
        "\n",
        "N1=python(\"nesha\",81)\n"
      ],
      "metadata": {
        "colab": {
          "base_uri": "https://localhost:8080/"
        },
        "id": "qFLz-EFffbol",
        "outputId": "07ee6b65-607e-4ece-9905-b7b52f9531b5"
      },
      "id": "qFLz-EFffbol",
      "execution_count": null,
      "outputs": [
        {
          "output_type": "stream",
          "name": "stdout",
          "text": [
            "nesha and 81\n"
          ]
        }
      ]
    },
    {
      "cell_type": "code",
      "source": [
        "class bank:\n",
        "  def __init__(self,add_money):\n",
        "    self.add_money=add_money\n",
        "    n11.hdfc12()\n",
        "  def hdfc12(self):\n",
        "    total_balance=100+self.add_money\n",
        "    print(total_balance)\n",
        "n11=bank(12000)\n",
        "\n",
        "\n",
        "\n"
      ],
      "metadata": {
        "colab": {
          "base_uri": "https://localhost:8080/",
          "height": 332
        },
        "id": "T5XA9OlDhW-d",
        "outputId": "5e4611e4-1435-4502-d3bd-554b9df5d9c0"
      },
      "id": "T5XA9OlDhW-d",
      "execution_count": null,
      "outputs": [
        {
          "output_type": "error",
          "ename": "AttributeError",
          "evalue": "'bank' object has no attribute 'hdfc12'",
          "traceback": [
            "\u001b[0;31m---------------------------------------------------------------------------\u001b[0m",
            "\u001b[0;31mAttributeError\u001b[0m                            Traceback (most recent call last)",
            "\u001b[0;32m<ipython-input-5-06eb1b9e8ac8>\u001b[0m in \u001b[0;36m<cell line: 8>\u001b[0;34m()\u001b[0m\n\u001b[1;32m      6\u001b[0m     \u001b[0mtotal_balance\u001b[0m\u001b[0;34m=\u001b[0m\u001b[0;36m100\u001b[0m\u001b[0;34m+\u001b[0m\u001b[0mself\u001b[0m\u001b[0;34m.\u001b[0m\u001b[0madd_money\u001b[0m\u001b[0;34m\u001b[0m\u001b[0;34m\u001b[0m\u001b[0m\n\u001b[1;32m      7\u001b[0m     \u001b[0mprint\u001b[0m\u001b[0;34m(\u001b[0m\u001b[0mtotal_balance\u001b[0m\u001b[0;34m)\u001b[0m\u001b[0;34m\u001b[0m\u001b[0;34m\u001b[0m\u001b[0m\n\u001b[0;32m----> 8\u001b[0;31m \u001b[0mn11\u001b[0m\u001b[0;34m=\u001b[0m\u001b[0mbank\u001b[0m\u001b[0;34m(\u001b[0m\u001b[0;36m12000\u001b[0m\u001b[0;34m)\u001b[0m\u001b[0;34m\u001b[0m\u001b[0;34m\u001b[0m\u001b[0m\n\u001b[0m\u001b[1;32m      9\u001b[0m \u001b[0;34m\u001b[0m\u001b[0m\n\u001b[1;32m     10\u001b[0m \u001b[0;34m\u001b[0m\u001b[0m\n",
            "\u001b[0;32m<ipython-input-5-06eb1b9e8ac8>\u001b[0m in \u001b[0;36m__init__\u001b[0;34m(self, add_money)\u001b[0m\n\u001b[1;32m      2\u001b[0m   \u001b[0;32mdef\u001b[0m \u001b[0m__init__\u001b[0m\u001b[0;34m(\u001b[0m\u001b[0mself\u001b[0m\u001b[0;34m,\u001b[0m\u001b[0madd_money\u001b[0m\u001b[0;34m)\u001b[0m\u001b[0;34m:\u001b[0m\u001b[0;34m\u001b[0m\u001b[0;34m\u001b[0m\u001b[0m\n\u001b[1;32m      3\u001b[0m     \u001b[0mself\u001b[0m\u001b[0;34m.\u001b[0m\u001b[0madd_money\u001b[0m\u001b[0;34m=\u001b[0m\u001b[0madd_money\u001b[0m\u001b[0;34m\u001b[0m\u001b[0;34m\u001b[0m\u001b[0m\n\u001b[0;32m----> 4\u001b[0;31m     \u001b[0mn11\u001b[0m\u001b[0;34m.\u001b[0m\u001b[0mhdfc12\u001b[0m\u001b[0;34m(\u001b[0m\u001b[0;34m)\u001b[0m\u001b[0;34m\u001b[0m\u001b[0;34m\u001b[0m\u001b[0m\n\u001b[0m\u001b[1;32m      5\u001b[0m   \u001b[0;32mdef\u001b[0m \u001b[0mhdfc12\u001b[0m\u001b[0;34m(\u001b[0m\u001b[0mself\u001b[0m\u001b[0;34m)\u001b[0m\u001b[0;34m:\u001b[0m\u001b[0;34m\u001b[0m\u001b[0;34m\u001b[0m\u001b[0m\n\u001b[1;32m      6\u001b[0m     \u001b[0mtotal_balance\u001b[0m\u001b[0;34m=\u001b[0m\u001b[0;36m100\u001b[0m\u001b[0;34m+\u001b[0m\u001b[0mself\u001b[0m\u001b[0;34m.\u001b[0m\u001b[0madd_money\u001b[0m\u001b[0;34m\u001b[0m\u001b[0;34m\u001b[0m\u001b[0m\n",
            "\u001b[0;31mAttributeError\u001b[0m: 'bank' object has no attribute 'hdfc12'"
          ]
        }
      ]
    },
    {
      "cell_type": "code",
      "source": [],
      "metadata": {
        "id": "6CO_YHcgfb__"
      },
      "id": "6CO_YHcgfb__",
      "execution_count": null,
      "outputs": []
    },
    {
      "cell_type": "code",
      "execution_count": null,
      "metadata": {
        "colab": {
          "base_uri": "https://localhost:8080/"
        },
        "id": "nXbMWxjk-Ayi",
        "outputId": "1362e587-2d6d-4eff-e143-27de12d9cfb3"
      },
      "outputs": [
        {
          "name": "stdout",
          "output_type": "stream",
          "text": [
            "The area of the rectangle is: 15\n"
          ]
        }
      ],
      "source": [
        "class Rectangle:\n",
        "    def __init__(self, width, height):\n",
        "        self.width = width\n",
        "        self.height = height\n",
        "\n",
        "    def calculate_area(self):\n",
        "        return self.width * self.height\n",
        "\n",
        "\n",
        "# Creating an instance of the Rectangle class\n",
        "rectangle = Rectangle(5, 3)\n",
        "area = rectangle.calculate_area()\n",
        "print(f\"The area of the rectangle is: {area}\")\n"
      ],
      "id": "nXbMWxjk-Ayi"
    },
    {
      "cell_type": "code",
      "source": [
        "class Rectangle:\n",
        "    def __init__(self, width, height):\n",
        "        self.width = width\n",
        "        self.height = height\n",
        "\n",
        "    def calculate_area(self):\n",
        "        return self.width * self.height\n",
        "\n",
        "\n",
        "# Creating an instance of the Rectangle class\n",
        "rectangle = Rectangle(5, 3)\n",
        "print(rectangle.calculate_area())\n",
        "\n"
      ],
      "metadata": {
        "colab": {
          "base_uri": "https://localhost:8080/"
        },
        "id": "P9wlnjwtCT35",
        "outputId": "1dca2054-5a81-4425-e2e0-b2c4ca019e6d"
      },
      "id": "P9wlnjwtCT35",
      "execution_count": null,
      "outputs": [
        {
          "output_type": "stream",
          "name": "stdout",
          "text": [
            "15\n"
          ]
        }
      ]
    },
    {
      "cell_type": "code",
      "source": [
        "class Rectangle:\n",
        "    def __init__(self, width, height):\n",
        "        self.width = width\n",
        "        self.height = height\n",
        "\n",
        "    def calculate_area(self):\n",
        "        print(self.width * self.height)\n",
        "\n",
        "\n",
        "# Creating an instance of the Rectangle class\n",
        "rectangle = Rectangle(5, 3)\n",
        "rectangle.calculate_area()\n",
        "\n"
      ],
      "metadata": {
        "colab": {
          "base_uri": "https://localhost:8080/"
        },
        "id": "x0j59UtBCfO-",
        "outputId": "b8a0e4c7-cee4-40c8-9fd4-5a0880195147"
      },
      "id": "x0j59UtBCfO-",
      "execution_count": null,
      "outputs": [
        {
          "output_type": "stream",
          "name": "stdout",
          "text": [
            "15\n"
          ]
        }
      ]
    },
    {
      "cell_type": "code",
      "execution_count": null,
      "metadata": {
        "colab": {
          "base_uri": "https://localhost:8080/"
        },
        "id": "Fjccop7v-A1y",
        "outputId": "120285f8-d2b3-4fff-f59e-91d9b5fda78e"
      },
      "outputs": [
        {
          "output_type": "stream",
          "name": "stdout",
          "text": [
            "The car is currently moving at 20 km/h.\n",
            "The car is currently moving at 10 km/h.\n"
          ]
        }
      ],
      "source": [
        "class Car:\n",
        "    def __init__(self, make, model, year):\n",
        "        self.make = make\n",
        "        self.model = model\n",
        "        self.year = year\n",
        "        self.speed = 0\n",
        "\n",
        "    def accelerate(self, increment):\n",
        "        self.speed += increment\n",
        "\n",
        "    def brake(self, decrement):\n",
        "        self.speed -= decrement\n",
        "\n",
        "    def display_speed(self):\n",
        "        print(f\"The car is currently moving at {self.speed} km/h.\")\n",
        "\n",
        "\n",
        "# Creating an instance of the Car class\n",
        "car = Car(\"Toyota\", \"Camry\", 2022)\n",
        "\n",
        "# Accelerating and displaying the speed\n",
        "car.accelerate(20)\n",
        "car.display_speed()\n",
        "\n",
        "# Applying brakes and displaying the speed\n",
        "car.brake(10)\n",
        "car.display_speed()\n"
      ],
      "id": "Fjccop7v-A1y"
    },
    {
      "cell_type": "code",
      "execution_count": null,
      "metadata": {
        "id": "a0c803d4-25f0-4f19-ac38-434120f84497"
      },
      "outputs": [],
      "source": [
        "class SpaceWindow:\n",
        "\n",
        "\n",
        "    def __init__(self ,phone_number , email_id , student_id ):\n",
        "        self.phone_number1 = phone_number\n",
        "        self.email_id1 = email_id\n",
        "        self.student_id1 = student_id\n",
        "\n",
        "    def return_student_deetials(self) :\n",
        "        return self.student_id1 ,self.phone_number1 ,self.email_id1\n"
      ],
      "id": "a0c803d4-25f0-4f19-ac38-434120f84497"
    },
    {
      "cell_type": "code",
      "execution_count": null,
      "metadata": {
        "id": "afc21b01-a33b-464c-a2fc-becf84c14cd7",
        "colab": {
          "base_uri": "https://localhost:8080/"
        },
        "outputId": "2ff0f3fd-ed93-44ff-fced-5c901e55a21e"
      },
      "outputs": [
        {
          "output_type": "execute_result",
          "data": {
            "text/plain": [
              "(101, 122232432342, 'rohan@gmail.com')"
            ]
          },
          "metadata": {},
          "execution_count": 47
        }
      ],
      "source": [
        "rohan = SpaceWindow(122232432342,\"rohan@gmail.com\",101)\n",
        "rohan.return_student_deetials()"
      ],
      "id": "afc21b01-a33b-464c-a2fc-becf84c14cd7"
    },
    {
      "cell_type": "code",
      "execution_count": null,
      "metadata": {
        "id": "bsqrF8YkEsvR"
      },
      "outputs": [],
      "source": [
        "#how to access variable inside the class and outside the class\n",
        "#inside the class:self.variable_name\n",
        "#outside the Class:object.variable_name without self"
      ],
      "id": "bsqrF8YkEsvR"
    },
    {
      "cell_type": "code",
      "execution_count": null,
      "metadata": {
        "colab": {
          "base_uri": "https://localhost:8080/"
        },
        "id": "bc3241e2-7bcf-4169-91d2-a1f98f846096",
        "outputId": "1bd12f2c-37ed-44ed-b529-b6f68404610c"
      },
      "outputs": [
        {
          "output_type": "execute_result",
          "data": {
            "text/plain": [
              "122232432342"
            ]
          },
          "metadata": {},
          "execution_count": 50
        }
      ],
      "source": [
        "rohan.phone_number1"
      ],
      "id": "bc3241e2-7bcf-4169-91d2-a1f98f846096"
    },
    {
      "cell_type": "code",
      "execution_count": null,
      "metadata": {
        "colab": {
          "base_uri": "https://localhost:8080/",
          "height": 36
        },
        "id": "b6d01b96-e406-4496-b42d-9cb0452c6cf7",
        "outputId": "bca01faa-702b-4a82-fed8-1f91d48b1ec7"
      },
      "outputs": [
        {
          "output_type": "execute_result",
          "data": {
            "text/plain": [
              "'rohan@gmail.com'"
            ],
            "application/vnd.google.colaboratory.intrinsic+json": {
              "type": "string"
            }
          },
          "metadata": {},
          "execution_count": 51
        }
      ],
      "source": [
        "rohan.email_id1"
      ],
      "id": "b6d01b96-e406-4496-b42d-9cb0452c6cf7"
    },
    {
      "cell_type": "code",
      "execution_count": null,
      "metadata": {
        "colab": {
          "base_uri": "https://localhost:8080/"
        },
        "id": "9bd2123c-a261-4a4d-ae52-eb64573b53fa",
        "outputId": "60ac8160-3b3c-4697-fcf1-19abb153ffa0"
      },
      "outputs": [
        {
          "output_type": "execute_result",
          "data": {
            "text/plain": [
              "(101, 122232432342, 'rohan@gmail.com')"
            ]
          },
          "metadata": {},
          "execution_count": 52
        }
      ],
      "source": [
        "rohan.return_student_deetials()"
      ],
      "id": "9bd2123c-a261-4a4d-ae52-eb64573b53fa"
    },
    {
      "cell_type": "code",
      "execution_count": null,
      "metadata": {
        "id": "9128e91c-f9f3-43b1-b64e-9e3b177c6755"
      },
      "outputs": [],
      "source": [
        "gaurav = SpaceWindow(98797867678, \"gaurav@gmail.com\" , 102)"
      ],
      "id": "9128e91c-f9f3-43b1-b64e-9e3b177c6755"
    },
    {
      "cell_type": "code",
      "execution_count": null,
      "metadata": {
        "colab": {
          "base_uri": "https://localhost:8080/"
        },
        "id": "8dc7ccfd-f72a-4898-95b0-2f4d9d19b8ee",
        "outputId": "40b37e4a-9d07-405a-d70d-68d175053e53"
      },
      "outputs": [
        {
          "data": {
            "text/plain": [
              "(102, 98797867678, 'gaurav@gmail.com')"
            ]
          },
          "execution_count": 15,
          "metadata": {},
          "output_type": "execute_result"
        }
      ],
      "source": [
        "gaurav.return_student_deetials()"
      ],
      "id": "8dc7ccfd-f72a-4898-95b0-2f4d9d19b8ee"
    },
    {
      "cell_type": "code",
      "execution_count": null,
      "metadata": {
        "id": "e09e7df0-922b-482a-a866-454539e9e70c"
      },
      "outputs": [],
      "source": [
        "class Space2 :\n",
        "\n",
        "    def __init__(self ,phone_number , email_id , student_id ):\n",
        "        self.phone_number1 = phone_number\n",
        "        self.email_id1 = email_id\n",
        "        self.student_id1 = student_id\n",
        "\n",
        "    def return_student_deetials(self) :\n",
        "        return self.student_id1 ,self.phone_number1 ,self.email_id1\n"
      ],
      "id": "e09e7df0-922b-482a-a866-454539e9e70c"
    },
    {
      "cell_type": "code",
      "execution_count": null,
      "metadata": {
        "id": "358fb994-7d97-4807-9f28-3933b3979e2f"
      },
      "outputs": [],
      "source": [
        "sudh = Space2(999954355, \"sudh@gmail.com\" , 102)"
      ],
      "id": "358fb994-7d97-4807-9f28-3933b3979e2f"
    },
    {
      "cell_type": "code",
      "execution_count": null,
      "metadata": {
        "colab": {
          "base_uri": "https://localhost:8080/"
        },
        "id": "265a8fd0-40b9-45d6-959d-7e0d1c7400eb",
        "outputId": "37a776ac-18c9-4425-8c3a-64635103fa2d"
      },
      "outputs": [
        {
          "data": {
            "text/plain": [
              "(102, 999954355, 'sudh@gmail.com')"
            ]
          },
          "execution_count": 20,
          "metadata": {},
          "output_type": "execute_result"
        }
      ],
      "source": [
        "sudh.return_student_deetials()"
      ],
      "id": "265a8fd0-40b9-45d6-959d-7e0d1c7400eb"
    },
    {
      "cell_type": "code",
      "execution_count": null,
      "metadata": {
        "colab": {
          "base_uri": "https://localhost:8080/"
        },
        "id": "10f5cd7a-837f-455f-b2cb-df4cf496da50",
        "outputId": "5d078a85-48c0-4159-e76f-c4109b727264"
      },
      "outputs": [
        {
          "data": {
            "text/plain": [
              "999954355"
            ]
          },
          "execution_count": 18,
          "metadata": {},
          "output_type": "execute_result"
        }
      ],
      "source": [
        "sudh.phone_number1"
      ],
      "id": "10f5cd7a-837f-455f-b2cb-df4cf496da50"
    },
    {
      "cell_type": "code",
      "execution_count": null,
      "metadata": {
        "colab": {
          "base_uri": "https://localhost:8080/",
          "height": 35
        },
        "id": "e64431c0-7a55-48ba-9c4a-b9e12a52896a",
        "outputId": "ae1c8588-a95d-4564-bb2a-7938885bc23a"
      },
      "outputs": [
        {
          "data": {
            "application/vnd.google.colaboratory.intrinsic+json": {
              "type": "string"
            },
            "text/plain": [
              "'sudh@gmail.com'"
            ]
          },
          "execution_count": 19,
          "metadata": {},
          "output_type": "execute_result"
        }
      ],
      "source": [
        "sudh.email_id1"
      ],
      "id": "e64431c0-7a55-48ba-9c4a-b9e12a52896a"
    },
    {
      "cell_type": "code",
      "execution_count": null,
      "metadata": {
        "id": "9e471991-7b97-40aa-ada9-aaeeff51a1ed"
      },
      "outputs": [],
      "source": [
        "class pwskills2 :\n",
        "\n",
        "    def __init__(sudh ,phone_number , email_id , student_id ):\n",
        "        sudh.phone_number1 = phone_number\n",
        "        sudh.email_id1 = email_id\n",
        "        sudh.student_id1 = student_id\n",
        "\n",
        "    def return_student_deetials(sudh) :\n",
        "        return sudh.student_id1 ,sudh.phone_number1 ,sudh.email_id1\n"
      ],
      "id": "9e471991-7b97-40aa-ada9-aaeeff51a1ed"
    },
    {
      "cell_type": "code",
      "execution_count": null,
      "metadata": {
        "id": "00e19e9e-4452-4ada-991d-e8e92dba7b44"
      },
      "outputs": [],
      "source": [
        "parthav = pwskills2(8360103913, \"parthav@gmail.com\" , 324)\n"
      ],
      "id": "00e19e9e-4452-4ada-991d-e8e92dba7b44"
    },
    {
      "cell_type": "code",
      "execution_count": null,
      "metadata": {
        "colab": {
          "base_uri": "https://localhost:8080/"
        },
        "id": "02c3459f-306a-4fc2-92ba-58d0a6afcfe3",
        "outputId": "4e9c17c1-7c9b-4703-81d4-25897e88c3b8"
      },
      "outputs": [
        {
          "output_type": "execute_result",
          "data": {
            "text/plain": [
              "(324, 8360103913, 'parthav@gmail.com')"
            ]
          },
          "metadata": {},
          "execution_count": 37
        }
      ],
      "source": [
        "parthav.return_student_deetials()"
      ],
      "id": "02c3459f-306a-4fc2-92ba-58d0a6afcfe3"
    },
    {
      "cell_type": "code",
      "source": [
        "parthav.phone_number1=6283336208"
      ],
      "metadata": {
        "id": "u-z5K5Ziqflv"
      },
      "id": "u-z5K5Ziqflv",
      "execution_count": null,
      "outputs": []
    },
    {
      "cell_type": "code",
      "source": [
        "parthav.return_student_deetials()"
      ],
      "metadata": {
        "colab": {
          "base_uri": "https://localhost:8080/"
        },
        "id": "_7uPzxMOqfpY",
        "outputId": "8f8b8d6b-880d-45c3-d5df-744b40d7202a"
      },
      "id": "_7uPzxMOqfpY",
      "execution_count": null,
      "outputs": [
        {
          "output_type": "execute_result",
          "data": {
            "text/plain": [
              "(324, 6283336208, 'parthav@gmail.com')"
            ]
          },
          "metadata": {},
          "execution_count": 39
        }
      ]
    },
    {
      "cell_type": "code",
      "execution_count": null,
      "metadata": {
        "colab": {
          "base_uri": "https://localhost:8080/"
        },
        "id": "f65f69cf-768d-4292-a635-5a0eec120c36",
        "outputId": "d77ecfa9-3743-4355-a24e-4bc61c720bc1"
      },
      "outputs": [
        {
          "output_type": "stream",
          "name": "stdout",
          "text": [
            "my name is John and my age is 36\n"
          ]
        }
      ],
      "source": [
        "class Person:\n",
        "  def __init__(self, name, age):\n",
        "    self.name1 = name\n",
        "    self.age1 = age\n",
        "\n",
        "  def myfunc(self):\n",
        "    print(\"my name is {} and my age is {}\".format(self.name1,self.age1))\n",
        "\n",
        "p1 = Person(\"John\", 36)\n",
        "p1.myfunc()"
      ],
      "id": "f65f69cf-768d-4292-a635-5a0eec120c36"
    },
    {
      "cell_type": "code",
      "execution_count": null,
      "metadata": {
        "id": "MzicR4Z7rfnW"
      },
      "outputs": [],
      "source": [
        "p1.age1 = 40"
      ],
      "id": "MzicR4Z7rfnW"
    },
    {
      "cell_type": "code",
      "execution_count": null,
      "metadata": {
        "colab": {
          "base_uri": "https://localhost:8080/"
        },
        "id": "inDq7ioHtqW9",
        "outputId": "42f55ac1-bcc1-47b5-e989-74fb00e8e85f"
      },
      "outputs": [
        {
          "output_type": "stream",
          "name": "stdout",
          "text": [
            "my name is John and my age is 40\n"
          ]
        }
      ],
      "source": [
        "p1.myfunc()"
      ],
      "id": "inDq7ioHtqW9"
    },
    {
      "cell_type": "code",
      "execution_count": null,
      "metadata": {
        "id": "ImzIfufjttne"
      },
      "outputs": [],
      "source": [],
      "id": "ImzIfufjttne"
    },
    {
      "cell_type": "code",
      "execution_count": null,
      "metadata": {
        "id": "XtGahnWquMZe"
      },
      "outputs": [],
      "source": [
        "class Space2 :\n",
        "\n",
        "    def __init__(self ,phone_number , email_id , student_id ):\n",
        "        self.phone_number1 = phone_number\n",
        "        self.email_id1 = email_id\n",
        "        self.student_id1 = student_id\n",
        "\n",
        "    def return_student_deetials(self) :\n",
        "        return self.student_id1 ,self.phone_number1 ,self.email_id1"
      ],
      "id": "XtGahnWquMZe"
    },
    {
      "cell_type": "code",
      "execution_count": null,
      "metadata": {
        "id": "4tWXNkv7uMcW"
      },
      "outputs": [],
      "source": [
        "sunil = Space2(999954355, \"sudh@gmail.com\" , 102)"
      ],
      "id": "4tWXNkv7uMcW"
    },
    {
      "cell_type": "code",
      "execution_count": null,
      "metadata": {
        "colab": {
          "base_uri": "https://localhost:8080/"
        },
        "id": "z7bo9YfUuMfm",
        "outputId": "a7ab7e75-9d94-47ab-8fd4-d1e2ea84ae04"
      },
      "outputs": [
        {
          "data": {
            "text/plain": [
              "(102, 999954355, 'sudh@gmail.com')"
            ]
          },
          "execution_count": 70,
          "metadata": {},
          "output_type": "execute_result"
        }
      ],
      "source": [
        "sunil.return_student_deetials()\n"
      ],
      "id": "z7bo9YfUuMfm"
    },
    {
      "cell_type": "code",
      "execution_count": null,
      "metadata": {
        "id": "GN1il1VCuW8R"
      },
      "outputs": [],
      "source": [
        "sunil.student_id=50"
      ],
      "id": "GN1il1VCuW8R"
    },
    {
      "cell_type": "code",
      "execution_count": null,
      "metadata": {
        "colab": {
          "base_uri": "https://localhost:8080/"
        },
        "id": "dIBakmyougp8",
        "outputId": "1a9b9ec3-16d2-4378-c24f-6ffe58baf864"
      },
      "outputs": [
        {
          "data": {
            "text/plain": [
              "(102, 999954355, 'sudh@gmail.com')"
            ]
          },
          "execution_count": 73,
          "metadata": {},
          "output_type": "execute_result"
        }
      ],
      "source": [
        "sunil.return_student_deetials()\n"
      ],
      "id": "dIBakmyougp8"
    },
    {
      "cell_type": "markdown",
      "metadata": {
        "id": "fFopJoreSBXL"
      },
      "source": [
        "**Polymorphism**"
      ],
      "id": "fFopJoreSBXL"
    },
    {
      "cell_type": "code",
      "execution_count": null,
      "metadata": {
        "id": "j8UAlnljuoNY"
      },
      "outputs": [],
      "source": [
        "#polymorphism:greek_word\n",
        "#poly_mean:Many\n",
        "#Morphos mean:Forms\n",
        "# manyForms\n",
        "\n",
        "#different kind of behaviour at different- different situation"
      ],
      "id": "j8UAlnljuoNY"
    },
    {
      "cell_type": "code",
      "execution_count": null,
      "metadata": {
        "id": "we2MCXu-SHrh"
      },
      "outputs": [],
      "source": [
        "#variable,object or method perform different behaviour according to situation it is called polymorphism."
      ],
      "id": "we2MCXu-SHrh"
    },
    {
      "cell_type": "code",
      "execution_count": null,
      "metadata": {
        "id": "MuG3aNqESHxI"
      },
      "outputs": [],
      "source": [
        "#concept come in polymorphisam\n",
        "# duck typing\n",
        "# opertor overloading\n",
        "# method overloading\n",
        "# method overriding"
      ],
      "id": "MuG3aNqESHxI"
    },
    {
      "cell_type": "code",
      "execution_count": null,
      "metadata": {
        "id": "RrtROt2YbVCT"
      },
      "outputs": [],
      "source": [
        "def test(a , b ):\n",
        "    return a+b"
      ],
      "id": "RrtROt2YbVCT"
    },
    {
      "cell_type": "code",
      "source": [],
      "metadata": {
        "id": "V86n8FdPbEAz"
      },
      "id": "V86n8FdPbEAz",
      "execution_count": null,
      "outputs": []
    },
    {
      "cell_type": "code",
      "execution_count": null,
      "metadata": {
        "id": "1tD0CbtHbVFb",
        "colab": {
          "base_uri": "https://localhost:8080/"
        },
        "outputId": "cf889c85-21da-462a-cf78-c8c7698e45fe"
      },
      "outputs": [
        {
          "output_type": "execute_result",
          "data": {
            "text/plain": [
              "7"
            ]
          },
          "metadata": {},
          "execution_count": 86
        }
      ],
      "source": [
        "test(3,4)"
      ],
      "id": "1tD0CbtHbVFb"
    },
    {
      "cell_type": "code",
      "execution_count": null,
      "metadata": {
        "colab": {
          "base_uri": "https://localhost:8080/",
          "height": 35
        },
        "id": "KRUyHA7IbVI-",
        "outputId": "4373c462-8095-45b0-b8d5-4677dea7018c"
      },
      "outputs": [
        {
          "output_type": "execute_result",
          "data": {
            "text/plain": [
              "'sudh kumar '"
            ],
            "application/vnd.google.colaboratory.intrinsic+json": {
              "type": "string"
            }
          },
          "metadata": {},
          "execution_count": 87
        }
      ],
      "source": [
        "test(\"sudh \" , \"kumar \" )"
      ],
      "id": "KRUyHA7IbVI-"
    },
    {
      "cell_type": "code",
      "execution_count": null,
      "metadata": {
        "id": "dtDlM1EdbVL-",
        "colab": {
          "base_uri": "https://localhost:8080/"
        },
        "outputId": "3d616e81-6d60-4402-dccc-ccfb760b2182"
      },
      "outputs": [
        {
          "output_type": "execute_result",
          "data": {
            "text/plain": [
              "[3, 4, 5, 6, 45, 767, 67]"
            ]
          },
          "metadata": {},
          "execution_count": 88
        }
      ],
      "source": [
        "test([3,4,5,6] , [45,767,67])"
      ],
      "id": "dtDlM1EdbVL-"
    },
    {
      "cell_type": "code",
      "execution_count": null,
      "metadata": {
        "id": "HeMJAErbbVPt",
        "colab": {
          "base_uri": "https://localhost:8080/"
        },
        "outputId": "ef94e473-0256-4dea-d457-3d9187b27eca"
      },
      "outputs": [
        {
          "output_type": "stream",
          "name": "stdout",
          "text": [
            "this is my syllabus for data science masters \n",
            "this is  my subllabus for web dev\n"
          ]
        }
      ],
      "source": [
        "class data_science:\n",
        "\n",
        "    def syllabus(self) :\n",
        "        print(\"this is my syllabus for data science masters \")\n",
        "class web_dev:\n",
        "\n",
        "    def syllabus(self) :\n",
        "        print(\"this is  my subllabus for web dev\" )\n",
        "def class_parcer(class_obj):\n",
        "    for i in class_obj :\n",
        "        i.syllabus()\n",
        "data_science = data_science()\n",
        "web_dev = web_dev()\n",
        "class_obj1 = [data_science , web_dev]\n",
        "class_parcer(class_obj1)"
      ],
      "id": "HeMJAErbbVPt"
    },
    {
      "cell_type": "markdown",
      "metadata": {
        "id": "wPVlT-jcXfQG"
      },
      "source": [
        "**duck typing**"
      ],
      "id": "wPVlT-jcXfQG"
    },
    {
      "cell_type": "code",
      "execution_count": null,
      "metadata": {
        "id": "s-4FTCo_SH0y"
      },
      "outputs": [],
      "source": [],
      "id": "s-4FTCo_SH0y"
    },
    {
      "cell_type": "markdown",
      "metadata": {
        "id": "Y766wrjCXj_F"
      },
      "source": [
        "**duck typing means that if something looks like a duck, walks like a duck, and quacks like a duck, then we can treat it as a duck.**"
      ],
      "id": "Y766wrjCXj_F"
    },
    {
      "cell_type": "code",
      "execution_count": null,
      "metadata": {
        "id": "xeNm_B6kSH4K",
        "colab": {
          "base_uri": "https://localhost:8080/"
        },
        "outputId": "d3180048-443a-443e-8ce1-37a149b2406c"
      },
      "outputs": [
        {
          "output_type": "stream",
          "name": "stdout",
          "text": [
            "Quack!\n",
            "Beep boop! I'm a robot.\n"
          ]
        }
      ],
      "source": [
        "class Duck:\n",
        "    def quack(self):\n",
        "        print(\"Quack!\")\n",
        "\n",
        "class Robot:\n",
        "    def quack(self):\n",
        "        print(\"Beep boop! I'm a robot.\")\n",
        "\n",
        "def make_sound(creature):\n",
        "    creature.quack()\n",
        "\n",
        "# Creating instances of Duck and Robot\n",
        "duck = Duck()\n",
        "robot = Robot()\n",
        "\n",
        "# Both duck and robot can quack, so they can be passed to make_sound()\n",
        "make_sound(duck)\n",
        "make_sound(robot)\n"
      ],
      "id": "xeNm_B6kSH4K"
    },
    {
      "cell_type": "markdown",
      "metadata": {
        "id": "hLZoJaWgYntZ"
      },
      "source": [
        "**duck is an instance of the Duck class and robot is an instance of the Robot class, both objects can be passed to the make_sound() function because they have a quack() method**"
      ],
      "id": "hLZoJaWgYntZ"
    },
    {
      "cell_type": "markdown",
      "metadata": {
        "id": "cLEaqgQ-Yunj"
      },
      "source": [
        "**The function doesn't care about the specific type of the object; it only needs the object to have the quack() method. This is the essence of duck typing – focusing on the behavior of the object rather than its specific type.**"
      ],
      "id": "cLEaqgQ-Yunj"
    },
    {
      "cell_type": "code",
      "execution_count": null,
      "metadata": {
        "colab": {
          "base_uri": "https://localhost:8080/"
        },
        "id": "cz1AK2M5SH7E",
        "outputId": "dbd6c1e1-6486-47fd-e3eb-dca7151c638a"
      },
      "outputs": [
        {
          "name": "stdout",
          "output_type": "stream",
          "text": [
            "Driving the car!\n",
            "Riding the bike!\n"
          ]
        }
      ],
      "source": [
        "class Car:\n",
        "    def drive(self):\n",
        "        print(\"Driving the car!\")\n",
        "\n",
        "class Bike:\n",
        "    def drive(self):\n",
        "        print(\"Riding the bike!\")\n",
        "\n",
        "class Scooter:\n",
        "    def ride(self):\n",
        "        print(\"Riding the scooter!\")\n",
        "\n",
        "def travel(vehicle):\n",
        "    vehicle.drive()\n",
        "\n",
        "\n",
        "# Creating instances of Car, Bike, and Scooter\n",
        "car = Car()\n",
        "bike = Bike()\n",
        "scooter = Scooter()\n",
        "\n",
        "# Both car and bike can drive, so they can be passed to the travel() function\n",
        "travel(car)  # Output: Driving the car!\n",
        "travel(bike)  # Output: Riding the bike!\n",
        "\n",
        "\n"
      ],
      "id": "cz1AK2M5SH7E"
    },
    {
      "cell_type": "code",
      "execution_count": null,
      "metadata": {
        "colab": {
          "base_uri": "https://localhost:8080/",
          "height": 304
        },
        "id": "qVjAxcofSH98",
        "outputId": "123eb6cc-b4a7-4d72-c336-657b64599caa"
      },
      "outputs": [
        {
          "ename": "AttributeError",
          "evalue": "ignored",
          "output_type": "error",
          "traceback": [
            "\u001b[0;31m---------------------------------------------------------------------------\u001b[0m",
            "\u001b[0;31mAttributeError\u001b[0m                            Traceback (most recent call last)",
            "\u001b[0;32m<ipython-input-18-67b5ee7de34b>\u001b[0m in \u001b[0;36m<cell line: 2>\u001b[0;34m()\u001b[0m\n\u001b[1;32m      1\u001b[0m \u001b[0;31m# The scooter has a different method name, but we can still treat it as a vehicle\u001b[0m\u001b[0;34m\u001b[0m\u001b[0;34m\u001b[0m\u001b[0m\n\u001b[0;32m----> 2\u001b[0;31m \u001b[0mtravel\u001b[0m\u001b[0;34m(\u001b[0m\u001b[0mscooter\u001b[0m\u001b[0;34m)\u001b[0m\u001b[0;34m\u001b[0m\u001b[0;34m\u001b[0m\u001b[0m\n\u001b[0m",
            "\u001b[0;32m<ipython-input-17-7f00f4cf285a>\u001b[0m in \u001b[0;36mtravel\u001b[0;34m(vehicle)\u001b[0m\n\u001b[1;32m     12\u001b[0m \u001b[0;34m\u001b[0m\u001b[0m\n\u001b[1;32m     13\u001b[0m \u001b[0;32mdef\u001b[0m \u001b[0mtravel\u001b[0m\u001b[0;34m(\u001b[0m\u001b[0mvehicle\u001b[0m\u001b[0;34m)\u001b[0m\u001b[0;34m:\u001b[0m\u001b[0;34m\u001b[0m\u001b[0;34m\u001b[0m\u001b[0m\n\u001b[0;32m---> 14\u001b[0;31m     \u001b[0mvehicle\u001b[0m\u001b[0;34m.\u001b[0m\u001b[0mdrive\u001b[0m\u001b[0;34m(\u001b[0m\u001b[0;34m)\u001b[0m\u001b[0;34m\u001b[0m\u001b[0;34m\u001b[0m\u001b[0m\n\u001b[0m\u001b[1;32m     15\u001b[0m \u001b[0;34m\u001b[0m\u001b[0m\n\u001b[1;32m     16\u001b[0m \u001b[0;31m# Creating instances of Car, Bike, and Scooter\u001b[0m\u001b[0;34m\u001b[0m\u001b[0;34m\u001b[0m\u001b[0m\n",
            "\u001b[0;31mAttributeError\u001b[0m: 'Scooter' object has no attribute 'drive'"
          ]
        }
      ],
      "source": [
        "# The scooter has a different method name, but we can still treat it as a vehicle\n",
        "travel(scooter)#: 'Scooter' object has no attribute 'drive'"
      ],
      "id": "qVjAxcofSH98"
    },
    {
      "cell_type": "markdown",
      "metadata": {
        "id": "ep26aZUFZ0-5"
      },
      "source": [
        "**This example demonstrates that duck typing is about focusing on the expected behavior rather than the specific type of an object. **"
      ],
      "id": "ep26aZUFZ0-5"
    },
    {
      "cell_type": "markdown",
      "metadata": {
        "id": "tZ0-dZMLZ-zQ"
      },
      "source": [
        "**In this example, we have three classes: Car, Bike, and Scooter. Both Car and Bike have a drive() method, while Scooter has a ride() method.\n",
        "\n",
        "The travel() function takes a vehicle object as an argument and calls its drive() method. It expects the object to have a drive() method, but it doesn't check for a specific type.\n",
        "\n",
        "We create instances of Car, Bike, and Scooter, and pass them to the travel() function. Both the car and bike objects have a drive() method, so they can be treated as vehicles and successfully drive. However, the scooter object doesn't have a drive() method, so when we try to treat it as a vehicle, it raises an AttributeError**"
      ],
      "id": "tZ0-dZMLZ-zQ"
    },
    {
      "cell_type": "code",
      "execution_count": null,
      "metadata": {
        "colab": {
          "base_uri": "https://localhost:8080/"
        },
        "id": "4PvTZXzASIBC",
        "outputId": "7bd00f35-8352-4326-8665-37bfa4617f8c"
      },
      "outputs": [
        {
          "name": "stdout",
          "output_type": "stream",
          "text": [
            "Area: 25\n",
            "Area: 24\n"
          ]
        }
      ],
      "source": [
        "class Square:\n",
        "    def __init__(self, side_length):\n",
        "        self.side_length = side_length\n",
        "\n",
        "    def area(self):\n",
        "        return self.side_length ** 2\n",
        "\n",
        "class Rectangle:\n",
        "    def __init__(self, length, width):\n",
        "        self.length = length\n",
        "        self.width = width\n",
        "\n",
        "    def area(self):\n",
        "        return self.length * self.width\n",
        "\n",
        "def print_area(shape):\n",
        "    print(\"Area:\", shape.area())\n",
        "\n",
        "# Creating instances of Square and Rectangle\n",
        "square = Square(5)\n",
        "rectangle = Rectangle(4, 6)\n",
        "\n",
        "# Both square and rectangle have an area() method, so they can be passed to print_area()\n",
        "print_area(square)\n",
        "print_area(rectangle)\n"
      ],
      "id": "4PvTZXzASIBC"
    },
    {
      "cell_type": "code",
      "source": [
        "\n",
        "class India():\n",
        "    def capital(self):\n",
        "        print(\"New Delhi is the capital of India.\")\n",
        "\n",
        "    def language(self):\n",
        "        print(\"Hindi is the most widely spoken language of India.\")\n",
        "\n",
        "    def type(self):\n",
        "        print(\"India is a developing country.\")\n",
        "\n",
        "class USA():\n",
        "    def capital(self):\n",
        "        print(\"Washington, D.C. is the capital of USA.\")\n",
        "\n",
        "    def language(self):\n",
        "        print(\"English is the primary language of USA.\")\n",
        "\n",
        "    def type(self):\n",
        "        print(\"USA is a developed country.\")\n",
        "\n",
        "obj_ind = India()\n",
        "obj_usa = USA()\n",
        "for country in (obj_ind, obj_usa):\n",
        "    country.capital()\n",
        "    country.language()\n",
        "    country.type()"
      ],
      "metadata": {
        "colab": {
          "base_uri": "https://localhost:8080/"
        },
        "id": "ck5C2ciHB_Om",
        "outputId": "685ebd6a-2709-4bec-807a-85fc403104ce"
      },
      "id": "ck5C2ciHB_Om",
      "execution_count": null,
      "outputs": [
        {
          "output_type": "stream",
          "name": "stdout",
          "text": [
            "New Delhi is the capital of India.\n",
            "Hindi is the most widely spoken language of India.\n",
            "India is a developing country.\n",
            "Washington, D.C. is the capital of USA.\n",
            "English is the primary language of USA.\n",
            "USA is a developed country.\n"
          ]
        }
      ]
    },
    {
      "cell_type": "code",
      "source": [
        "class Bird:\n",
        "  def intro(self):\n",
        "    print(\"There are many types of birds.\")\n",
        "\n",
        "  def flight(self):\n",
        "    print(\"Most of the birds can fly but some cannot.\")\n",
        "\n",
        "class sparrow(Bird):\n",
        "  def flight(self):\n",
        "    print(\"Sparrows can fly.\")\n",
        "\n",
        "class ostrich(Bird):\n",
        "  def flight(self):\n",
        "    print(\"Ostriches cannot fly.\")\n",
        "\n",
        "\n",
        "obj_bird = Bird()\n",
        "obj_spr = sparrow()\n",
        "obj_ost = ostrich()\n",
        "\n",
        "obj_bird.intro()\n",
        "obj_bird.flight()\n",
        "\n",
        "obj_spr.intro()\n",
        "obj_spr.flight()\n",
        "\n",
        "obj_ost.intro()\n",
        "obj_ost.flight()"
      ],
      "metadata": {
        "colab": {
          "base_uri": "https://localhost:8080/"
        },
        "id": "UCAcc9vHCUeG",
        "outputId": "d84f1fb5-9874-458b-ac17-4f93b6a02b3e"
      },
      "id": "UCAcc9vHCUeG",
      "execution_count": null,
      "outputs": [
        {
          "output_type": "stream",
          "name": "stdout",
          "text": [
            "There are many types of birds.\n",
            "Most of the birds can fly but some cannot.\n",
            "There are many types of birds.\n",
            "Sparrows can fly.\n",
            "There are many types of birds.\n",
            "Ostriches cannot fly.\n"
          ]
        }
      ]
    },
    {
      "cell_type": "code",
      "source": [
        "class India():\n",
        "    def capital(self):\n",
        "        print(\"New Delhi is the capital of India.\")\n",
        "\n",
        "    def language(self):\n",
        "        print(\"Hindi is the most widely spoken language of India.\")\n",
        "\n",
        "    def type(self):\n",
        "        print(\"India is a developing country.\")\n",
        "\n",
        "class USA():\n",
        "    def capital(self):\n",
        "        print(\"Washington, D.C. is the capital of USA.\")\n",
        "\n",
        "    def language(self):\n",
        "        print(\"English is the primary language of USA.\")\n",
        "\n",
        "    def type(self):\n",
        "        print(\"USA is a developed country.\")\n",
        "\n",
        "def func(obj):\n",
        "    obj.capital()\n",
        "    obj.language()\n",
        "    obj.type()\n",
        "\n",
        "obj_ind = India()\n",
        "obj_usa = USA()\n",
        "\n",
        "func(obj_ind)\n",
        "func(obj_usa)"
      ],
      "metadata": {
        "colab": {
          "base_uri": "https://localhost:8080/"
        },
        "id": "1I6ycRU4Cy7N",
        "outputId": "0d1153e5-2ffc-4f5d-afb8-2b1207b571a2"
      },
      "id": "1I6ycRU4Cy7N",
      "execution_count": null,
      "outputs": [
        {
          "output_type": "stream",
          "name": "stdout",
          "text": [
            "New Delhi is the capital of India.\n",
            "Hindi is the most widely spoken language of India.\n",
            "India is a developing country.\n",
            "Washington, D.C. is the capital of USA.\n",
            "English is the primary language of USA.\n",
            "USA is a developed country.\n"
          ]
        }
      ]
    },
    {
      "cell_type": "code",
      "source": [
        "import datetime\n",
        "\n",
        "x = datetime.datetime.now()\n",
        "print(x)"
      ],
      "metadata": {
        "colab": {
          "base_uri": "https://localhost:8080/"
        },
        "id": "5mi35k0jD-Ey",
        "outputId": "a3e00aef-1c8a-4620-d764-8cb7a66c3b0d"
      },
      "id": "5mi35k0jD-Ey",
      "execution_count": null,
      "outputs": [
        {
          "output_type": "stream",
          "name": "stdout",
          "text": [
            "2023-08-03 06:22:34.118313\n"
          ]
        }
      ]
    },
    {
      "cell_type": "code",
      "source": [
        "import datetime\n",
        "\n",
        "x = datetime.datetime.now()\n",
        "\n",
        "print(x.year)\n",
        "print(x.strftime(\"%A\"))"
      ],
      "metadata": {
        "id": "5EmRVTopEHVs",
        "outputId": "1ecb263c-847c-4877-876b-d8524b0dd533",
        "colab": {
          "base_uri": "https://localhost:8080/"
        }
      },
      "id": "5EmRVTopEHVs",
      "execution_count": null,
      "outputs": [
        {
          "output_type": "stream",
          "name": "stdout",
          "text": [
            "2023\n",
            "Thursday\n"
          ]
        }
      ]
    },
    {
      "cell_type": "markdown",
      "source": [
        "**method overloading**"
      ],
      "metadata": {
        "id": "ZNk0q0ofqYan"
      },
      "id": "ZNk0q0ofqYan"
    },
    {
      "cell_type": "code",
      "execution_count": null,
      "metadata": {
        "id": "VxL6dDSWSIEK"
      },
      "outputs": [],
      "source": [
        "#when more than one method with the same name is defined in the same class is known as method overloadind"
      ],
      "id": "VxL6dDSWSIEK"
    },
    {
      "cell_type": "code",
      "source": [
        "#but the concept of method overloading in the python is not present,but we can achive"
      ],
      "metadata": {
        "id": "JuzBv_8xqXzY"
      },
      "id": "JuzBv_8xqXzY",
      "execution_count": null,
      "outputs": []
    },
    {
      "cell_type": "code",
      "source": [
        "#if a method is written such that it can perform more than one task ,it is called method overloading"
      ],
      "metadata": {
        "id": "rK6eRkf1qX2t"
      },
      "id": "rK6eRkf1qX2t",
      "execution_count": null,
      "outputs": []
    },
    {
      "cell_type": "code",
      "source": [
        "#other programming langauge run according passing paramenter\n",
        "class Myclass:\n",
        "  def sum(self,a):\n",
        "    print('1ST-METHOD',a)\n",
        "  def sum(self):\n",
        "    print(\"2ND-METHOD\")\n",
        "obj=Myclass()\n",
        "obj.sum(10)"
      ],
      "metadata": {
        "id": "Kn-DsUUts6JO",
        "colab": {
          "base_uri": "https://localhost:8080/",
          "height": 210
        },
        "outputId": "e656923c-2ab0-4ba8-aa63-f1d2d5aeb203"
      },
      "id": "Kn-DsUUts6JO",
      "execution_count": null,
      "outputs": [
        {
          "output_type": "error",
          "ename": "TypeError",
          "evalue": "ignored",
          "traceback": [
            "\u001b[0;31m---------------------------------------------------------------------------\u001b[0m",
            "\u001b[0;31mTypeError\u001b[0m                                 Traceback (most recent call last)",
            "\u001b[0;32m<ipython-input-4-b9f7a9e11c1d>\u001b[0m in \u001b[0;36m<cell line: 8>\u001b[0;34m()\u001b[0m\n\u001b[1;32m      6\u001b[0m     \u001b[0mprint\u001b[0m\u001b[0;34m(\u001b[0m\u001b[0;34m\"2ND-METHOD\"\u001b[0m\u001b[0;34m)\u001b[0m\u001b[0;34m\u001b[0m\u001b[0;34m\u001b[0m\u001b[0m\n\u001b[1;32m      7\u001b[0m \u001b[0mobj\u001b[0m\u001b[0;34m=\u001b[0m\u001b[0mMyclass\u001b[0m\u001b[0;34m(\u001b[0m\u001b[0;34m)\u001b[0m\u001b[0;34m\u001b[0m\u001b[0;34m\u001b[0m\u001b[0m\n\u001b[0;32m----> 8\u001b[0;31m \u001b[0mobj\u001b[0m\u001b[0;34m.\u001b[0m\u001b[0msum\u001b[0m\u001b[0;34m(\u001b[0m\u001b[0;36m10\u001b[0m\u001b[0;34m)\u001b[0m\u001b[0;34m\u001b[0m\u001b[0;34m\u001b[0m\u001b[0m\n\u001b[0m",
            "\u001b[0;31mTypeError\u001b[0m: Myclass.sum() takes 1 positional argument but 2 were given"
          ]
        }
      ]
    },
    {
      "cell_type": "code",
      "source": [
        "class Myclass:\n",
        "  def sum(self,a):\n",
        "    print('1ST-METHOD',a)\n",
        "\n",
        "obj=Myclass()\n",
        "obj.sum(8)"
      ],
      "metadata": {
        "colab": {
          "base_uri": "https://localhost:8080/"
        },
        "id": "0ZWLisfeqX5j",
        "outputId": "447e7b13-a8bf-445f-bcda-f3e0aa4ffa7b"
      },
      "id": "0ZWLisfeqX5j",
      "execution_count": null,
      "outputs": [
        {
          "output_type": "stream",
          "name": "stdout",
          "text": [
            "1ST-METHOD 8\n"
          ]
        }
      ]
    },
    {
      "cell_type": "code",
      "source": [
        "class Myclass:\n",
        "  def sum(self,a):\n",
        "    print('1ST-METHOD',a)\n",
        "  def sum(self):\n",
        "    print(\"2ND-METHOD\")\n",
        "obj=Myclass()\n",
        "obj.sum(19)"
      ],
      "metadata": {
        "colab": {
          "base_uri": "https://localhost:8080/",
          "height": 210
        },
        "id": "vXVojmMLdt-9",
        "outputId": "436ea54c-fda1-467c-9691-8c409f78e058"
      },
      "id": "vXVojmMLdt-9",
      "execution_count": null,
      "outputs": [
        {
          "output_type": "error",
          "ename": "TypeError",
          "evalue": "ignored",
          "traceback": [
            "\u001b[0;31m---------------------------------------------------------------------------\u001b[0m",
            "\u001b[0;31mTypeError\u001b[0m                                 Traceback (most recent call last)",
            "\u001b[0;32m<ipython-input-6-b68dfc345876>\u001b[0m in \u001b[0;36m<cell line: 7>\u001b[0;34m()\u001b[0m\n\u001b[1;32m      5\u001b[0m     \u001b[0mprint\u001b[0m\u001b[0;34m(\u001b[0m\u001b[0;34m\"2ND-METHOD\"\u001b[0m\u001b[0;34m)\u001b[0m\u001b[0;34m\u001b[0m\u001b[0;34m\u001b[0m\u001b[0m\n\u001b[1;32m      6\u001b[0m \u001b[0mobj\u001b[0m\u001b[0;34m=\u001b[0m\u001b[0mMyclass\u001b[0m\u001b[0;34m(\u001b[0m\u001b[0;34m)\u001b[0m\u001b[0;34m\u001b[0m\u001b[0;34m\u001b[0m\u001b[0m\n\u001b[0;32m----> 7\u001b[0;31m \u001b[0mobj\u001b[0m\u001b[0;34m.\u001b[0m\u001b[0msum\u001b[0m\u001b[0;34m(\u001b[0m\u001b[0;36m19\u001b[0m\u001b[0;34m)\u001b[0m\u001b[0;34m\u001b[0m\u001b[0;34m\u001b[0m\u001b[0m\n\u001b[0m",
            "\u001b[0;31mTypeError\u001b[0m: Myclass.sum() takes 1 positional argument but 2 were given"
          ]
        }
      ]
    },
    {
      "cell_type": "code",
      "source": [
        "class Myclass:\n",
        "  def sum(self,a):\n",
        "    print('1ST-METHOD',a)\n",
        "  def sum(self):\n",
        "    print(\"2ND-METHOD\")\n",
        "obj=Myclass()\n",
        "obj.sum()\n",
        "obj.sum(10)"
      ],
      "metadata": {
        "colab": {
          "base_uri": "https://localhost:8080/",
          "height": 227
        },
        "id": "sbZrQpzwqX9O",
        "outputId": "1f4387ea-ddff-4ffa-989c-11b84e7c6102"
      },
      "id": "sbZrQpzwqX9O",
      "execution_count": null,
      "outputs": [
        {
          "output_type": "stream",
          "name": "stdout",
          "text": [
            "2ND-METHOD\n"
          ]
        },
        {
          "output_type": "error",
          "ename": "TypeError",
          "evalue": "ignored",
          "traceback": [
            "\u001b[0;31m---------------------------------------------------------------------------\u001b[0m",
            "\u001b[0;31mTypeError\u001b[0m                                 Traceback (most recent call last)",
            "\u001b[0;32m<ipython-input-7-5404c86a871b>\u001b[0m in \u001b[0;36m<cell line: 8>\u001b[0;34m()\u001b[0m\n\u001b[1;32m      6\u001b[0m \u001b[0mobj\u001b[0m\u001b[0;34m=\u001b[0m\u001b[0mMyclass\u001b[0m\u001b[0;34m(\u001b[0m\u001b[0;34m)\u001b[0m\u001b[0;34m\u001b[0m\u001b[0;34m\u001b[0m\u001b[0m\n\u001b[1;32m      7\u001b[0m \u001b[0mobj\u001b[0m\u001b[0;34m.\u001b[0m\u001b[0msum\u001b[0m\u001b[0;34m(\u001b[0m\u001b[0;34m)\u001b[0m\u001b[0;34m\u001b[0m\u001b[0;34m\u001b[0m\u001b[0m\n\u001b[0;32m----> 8\u001b[0;31m \u001b[0mobj\u001b[0m\u001b[0;34m.\u001b[0m\u001b[0msum\u001b[0m\u001b[0;34m(\u001b[0m\u001b[0;36m10\u001b[0m\u001b[0;34m)\u001b[0m\u001b[0;34m\u001b[0m\u001b[0;34m\u001b[0m\u001b[0m\n\u001b[0m",
            "\u001b[0;31mTypeError\u001b[0m: Myclass.sum() takes 1 positional argument but 2 were given"
          ]
        }
      ]
    },
    {
      "cell_type": "code",
      "source": [
        "#python overloading\n",
        "class Myclass:\n",
        "  def sum(self,a,b,c):\n",
        "    s=a+b+c\n",
        "    return s\n",
        "obj=Myclass()\n",
        "obj.sum(10,20,30)"
      ],
      "metadata": {
        "colab": {
          "base_uri": "https://localhost:8080/"
        },
        "id": "frD8FKWhs4GY",
        "outputId": "f21edebc-63e6-4354-8b3e-aa1e120027d7"
      },
      "id": "frD8FKWhs4GY",
      "execution_count": null,
      "outputs": [
        {
          "output_type": "execute_result",
          "data": {
            "text/plain": [
              "60"
            ]
          },
          "metadata": {},
          "execution_count": 7
        }
      ]
    },
    {
      "cell_type": "code",
      "source": [
        "#python overloading\n",
        "class Myclass:\n",
        "  def sum(self,a,b,c):\n",
        "    s=a+b+c\n",
        "    return s\n",
        "obj=Myclass()\n",
        "obj.sum(10,20)"
      ],
      "metadata": {
        "colab": {
          "base_uri": "https://localhost:8080/",
          "height": 210
        },
        "id": "IzhPvXSetPon",
        "outputId": "cc4e029c-70d4-46b7-f999-fc5cf4fc5d66"
      },
      "id": "IzhPvXSetPon",
      "execution_count": null,
      "outputs": [
        {
          "output_type": "error",
          "ename": "TypeError",
          "evalue": "ignored",
          "traceback": [
            "\u001b[0;31m---------------------------------------------------------------------------\u001b[0m",
            "\u001b[0;31mTypeError\u001b[0m                                 Traceback (most recent call last)",
            "\u001b[0;32m<ipython-input-8-6000350d8cf3>\u001b[0m in \u001b[0;36m<cell line: 7>\u001b[0;34m()\u001b[0m\n\u001b[1;32m      5\u001b[0m     \u001b[0;32mreturn\u001b[0m \u001b[0ms\u001b[0m\u001b[0;34m\u001b[0m\u001b[0;34m\u001b[0m\u001b[0m\n\u001b[1;32m      6\u001b[0m \u001b[0mobj\u001b[0m\u001b[0;34m=\u001b[0m\u001b[0mMyclass\u001b[0m\u001b[0;34m(\u001b[0m\u001b[0;34m)\u001b[0m\u001b[0;34m\u001b[0m\u001b[0;34m\u001b[0m\u001b[0m\n\u001b[0;32m----> 7\u001b[0;31m \u001b[0mobj\u001b[0m\u001b[0;34m.\u001b[0m\u001b[0msum\u001b[0m\u001b[0;34m(\u001b[0m\u001b[0;36m10\u001b[0m\u001b[0;34m,\u001b[0m\u001b[0;36m20\u001b[0m\u001b[0;34m)\u001b[0m\u001b[0;34m\u001b[0m\u001b[0;34m\u001b[0m\u001b[0m\n\u001b[0m",
            "\u001b[0;31mTypeError\u001b[0m: Myclass.sum() missing 1 required positional argument: 'c'"
          ]
        }
      ]
    },
    {
      "cell_type": "code",
      "source": [
        "#python overloading\n",
        "class Myclass:\n",
        "  def sum(self,a,b,c):\n",
        "    s=a+b+c\n",
        "    return s\n",
        "obj=Myclass()\n",
        "obj.sum(10,)"
      ],
      "metadata": {
        "colab": {
          "base_uri": "https://localhost:8080/",
          "height": 210
        },
        "id": "qkYVMMwjtPrr",
        "outputId": "17162548-8a9e-4556-bb18-2ca672bffb37"
      },
      "id": "qkYVMMwjtPrr",
      "execution_count": null,
      "outputs": [
        {
          "output_type": "error",
          "ename": "TypeError",
          "evalue": "ignored",
          "traceback": [
            "\u001b[0;31m---------------------------------------------------------------------------\u001b[0m",
            "\u001b[0;31mTypeError\u001b[0m                                 Traceback (most recent call last)",
            "\u001b[0;32m<ipython-input-9-456adb357a09>\u001b[0m in \u001b[0;36m<cell line: 7>\u001b[0;34m()\u001b[0m\n\u001b[1;32m      5\u001b[0m     \u001b[0;32mreturn\u001b[0m \u001b[0ms\u001b[0m\u001b[0;34m\u001b[0m\u001b[0;34m\u001b[0m\u001b[0m\n\u001b[1;32m      6\u001b[0m \u001b[0mobj\u001b[0m\u001b[0;34m=\u001b[0m\u001b[0mMyclass\u001b[0m\u001b[0;34m(\u001b[0m\u001b[0;34m)\u001b[0m\u001b[0;34m\u001b[0m\u001b[0;34m\u001b[0m\u001b[0m\n\u001b[0;32m----> 7\u001b[0;31m \u001b[0mobj\u001b[0m\u001b[0;34m.\u001b[0m\u001b[0msum\u001b[0m\u001b[0;34m(\u001b[0m\u001b[0;36m10\u001b[0m\u001b[0;34m,\u001b[0m\u001b[0;34m)\u001b[0m\u001b[0;34m\u001b[0m\u001b[0;34m\u001b[0m\u001b[0m\n\u001b[0m",
            "\u001b[0;31mTypeError\u001b[0m: Myclass.sum() missing 2 required positional arguments: 'b' and 'c'"
          ]
        }
      ]
    },
    {
      "cell_type": "code",
      "source": [
        "#python overloading\n",
        "class Myclass:\n",
        "  def sum(self,a=None,b=None,c=None):\n",
        "    s=a+b+c\n",
        "    return s\n",
        "obj=Myclass()\n",
        "obj.sum(10,20,30)"
      ],
      "metadata": {
        "colab": {
          "base_uri": "https://localhost:8080/"
        },
        "id": "yBMaYovLtPu5",
        "outputId": "c8f40d1f-eba7-45f9-d4db-1c62f6fffa84"
      },
      "id": "yBMaYovLtPu5",
      "execution_count": null,
      "outputs": [
        {
          "output_type": "execute_result",
          "data": {
            "text/plain": [
              "60"
            ]
          },
          "metadata": {},
          "execution_count": 10
        }
      ]
    },
    {
      "cell_type": "code",
      "source": [
        "#python overloading\n",
        "class Myclass:\n",
        "  def sum(self,a=None,b=None,c=None):\n",
        "    s=a+b+c\n",
        "    return s\n",
        "obj=Myclass()\n",
        "obj.sum(10,20)"
      ],
      "metadata": {
        "colab": {
          "base_uri": "https://localhost:8080/",
          "height": 331
        },
        "id": "Hu8cZ0VVt_V9",
        "outputId": "a7441296-7301-439d-87ff-91feba0abfdc"
      },
      "id": "Hu8cZ0VVt_V9",
      "execution_count": null,
      "outputs": [
        {
          "output_type": "error",
          "ename": "TypeError",
          "evalue": "ignored",
          "traceback": [
            "\u001b[0;31m---------------------------------------------------------------------------\u001b[0m",
            "\u001b[0;31mTypeError\u001b[0m                                 Traceback (most recent call last)",
            "\u001b[0;32m<ipython-input-8-c1642947c2b0>\u001b[0m in \u001b[0;36m<cell line: 7>\u001b[0;34m()\u001b[0m\n\u001b[1;32m      5\u001b[0m     \u001b[0;32mreturn\u001b[0m \u001b[0ms\u001b[0m\u001b[0;34m\u001b[0m\u001b[0;34m\u001b[0m\u001b[0m\n\u001b[1;32m      6\u001b[0m \u001b[0mobj\u001b[0m\u001b[0;34m=\u001b[0m\u001b[0mMyclass\u001b[0m\u001b[0;34m(\u001b[0m\u001b[0;34m)\u001b[0m\u001b[0;34m\u001b[0m\u001b[0;34m\u001b[0m\u001b[0m\n\u001b[0;32m----> 7\u001b[0;31m \u001b[0mobj\u001b[0m\u001b[0;34m.\u001b[0m\u001b[0msum\u001b[0m\u001b[0;34m(\u001b[0m\u001b[0;36m10\u001b[0m\u001b[0;34m,\u001b[0m\u001b[0;36m20\u001b[0m\u001b[0;34m)\u001b[0m\u001b[0;34m\u001b[0m\u001b[0;34m\u001b[0m\u001b[0m\n\u001b[0m",
            "\u001b[0;32m<ipython-input-8-c1642947c2b0>\u001b[0m in \u001b[0;36msum\u001b[0;34m(self, a, b, c)\u001b[0m\n\u001b[1;32m      2\u001b[0m \u001b[0;32mclass\u001b[0m \u001b[0mMyclass\u001b[0m\u001b[0;34m:\u001b[0m\u001b[0;34m\u001b[0m\u001b[0;34m\u001b[0m\u001b[0m\n\u001b[1;32m      3\u001b[0m   \u001b[0;32mdef\u001b[0m \u001b[0msum\u001b[0m\u001b[0;34m(\u001b[0m\u001b[0mself\u001b[0m\u001b[0;34m,\u001b[0m\u001b[0ma\u001b[0m\u001b[0;34m=\u001b[0m\u001b[0;32mNone\u001b[0m\u001b[0;34m,\u001b[0m\u001b[0mb\u001b[0m\u001b[0;34m=\u001b[0m\u001b[0;32mNone\u001b[0m\u001b[0;34m,\u001b[0m\u001b[0mc\u001b[0m\u001b[0;34m=\u001b[0m\u001b[0;32mNone\u001b[0m\u001b[0;34m)\u001b[0m\u001b[0;34m:\u001b[0m\u001b[0;34m\u001b[0m\u001b[0;34m\u001b[0m\u001b[0m\n\u001b[0;32m----> 4\u001b[0;31m     \u001b[0ms\u001b[0m\u001b[0;34m=\u001b[0m\u001b[0ma\u001b[0m\u001b[0;34m+\u001b[0m\u001b[0mb\u001b[0m\u001b[0;34m+\u001b[0m\u001b[0mc\u001b[0m\u001b[0;34m\u001b[0m\u001b[0;34m\u001b[0m\u001b[0m\n\u001b[0m\u001b[1;32m      5\u001b[0m     \u001b[0;32mreturn\u001b[0m \u001b[0ms\u001b[0m\u001b[0;34m\u001b[0m\u001b[0;34m\u001b[0m\u001b[0m\n\u001b[1;32m      6\u001b[0m \u001b[0mobj\u001b[0m\u001b[0;34m=\u001b[0m\u001b[0mMyclass\u001b[0m\u001b[0;34m(\u001b[0m\u001b[0;34m)\u001b[0m\u001b[0;34m\u001b[0m\u001b[0;34m\u001b[0m\u001b[0m\n",
            "\u001b[0;31mTypeError\u001b[0m: unsupported operand type(s) for +: 'int' and 'NoneType'"
          ]
        }
      ]
    },
    {
      "cell_type": "code",
      "source": [
        "#python overloading\n",
        "class Myclass:\n",
        "  def sum(self,a=None,b=None,c=None):\n",
        "    print(a)\n",
        "    if a!=None and b!=None and c!=None:\n",
        "      s=a+b+c\n",
        "      return s\n",
        "    elif a!=None and b!=None:\n",
        "      s=a*b\n",
        "      return s\n",
        "    else:\n",
        "      return a\n",
        "\n",
        "obj=Myclass()\n",
        "obj.sum(10)"
      ],
      "metadata": {
        "id": "bGHvH1U6uRji",
        "colab": {
          "base_uri": "https://localhost:8080/"
        },
        "outputId": "43d5da29-2122-4068-c295-8ea780eb7003"
      },
      "id": "bGHvH1U6uRji",
      "execution_count": null,
      "outputs": [
        {
          "output_type": "stream",
          "name": "stdout",
          "text": [
            "10\n"
          ]
        },
        {
          "output_type": "execute_result",
          "data": {
            "text/plain": [
              "10"
            ]
          },
          "metadata": {},
          "execution_count": 15
        }
      ]
    },
    {
      "cell_type": "code",
      "source": [
        "#python overloading\n",
        "class Myclass:\n",
        "  def sum(self,a=None,b=None,c=None):\n",
        "    if a!=None and b!=None and c!=None:\n",
        "      s=a+b+c\n",
        "      return s\n",
        "    elif a!=None and b!=None:\n",
        "      s=a*b\n",
        "      return s\n",
        "    else:\n",
        "      return a\n",
        "\n",
        "obj=Myclass()\n",
        "obj.sum(10,20,30)"
      ],
      "metadata": {
        "colab": {
          "base_uri": "https://localhost:8080/"
        },
        "id": "_xjPm3xPxrOo",
        "outputId": "bef7b7d4-d385-4feb-ff62-6c7b8ea99fa4"
      },
      "id": "_xjPm3xPxrOo",
      "execution_count": null,
      "outputs": [
        {
          "output_type": "execute_result",
          "data": {
            "text/plain": [
              "60"
            ]
          },
          "metadata": {},
          "execution_count": 48
        }
      ]
    },
    {
      "cell_type": "code",
      "source": [
        "a=10\n",
        "print(a!=None)"
      ],
      "metadata": {
        "colab": {
          "base_uri": "https://localhost:8080/"
        },
        "id": "dbouJbtGFThC",
        "outputId": "6a94c4a7-0245-4a34-d7c3-a44f9d85d6e7"
      },
      "id": "dbouJbtGFThC",
      "execution_count": null,
      "outputs": [
        {
          "output_type": "stream",
          "name": "stdout",
          "text": [
            "True\n"
          ]
        }
      ]
    },
    {
      "cell_type": "code",
      "source": [
        "#python overloading\n",
        "class Myclass:\n",
        "  def sum(self,a=None,b=None,c=None):\n",
        "    if a!=None and b!=None and c!=None:\n",
        "      s=a+b+c\n",
        "      return s\n",
        "    elif a!=None and b!=None:\n",
        "      s=a*b\n",
        "      return s\n",
        "    else:\n",
        "      return a\n",
        "\n",
        "obj=Myclass()\n",
        "obj.sum(10)"
      ],
      "metadata": {
        "colab": {
          "base_uri": "https://localhost:8080/"
        },
        "id": "qnNkuFBFx1fG",
        "outputId": "6740cb92-2208-44ec-9e74-30244b3fe5e7"
      },
      "id": "qnNkuFBFx1fG",
      "execution_count": null,
      "outputs": [
        {
          "output_type": "execute_result",
          "data": {
            "text/plain": [
              "10"
            ]
          },
          "metadata": {},
          "execution_count": 50
        }
      ]
    },
    {
      "cell_type": "code",
      "source": [
        "class MyClass:\n",
        "    def my_method(self, *args):\n",
        "        print(\"hi\",args)\n",
        "        print(len(args))\n",
        "        if len(args) == 1:\n",
        "            # Handle the case when only one argument is provided\n",
        "            print(args[0])\n",
        "        else:\n",
        "            # Handle the case when multiple arguments are provided\n",
        "            for i in args:\n",
        "                print(i)\n",
        "\n",
        "my_object = MyClass()\n",
        "my_object.my_method(\"Hello\",)  # Prints: Hello\n",
        "my_object.my_method(\"Hello\", \"World\")  # Prints: Hello World\n",
        "my_object.my_method(\"A\")\n",
        "my_object.my_method(\"AB\")\n",
        "\n",
        "print(isinstance(my_object,MyClass))"
      ],
      "metadata": {
        "colab": {
          "base_uri": "https://localhost:8080/"
        },
        "id": "q8xkj4JxyCdW",
        "outputId": "630bdacc-0ead-482d-82ee-502b24590682"
      },
      "id": "q8xkj4JxyCdW",
      "execution_count": null,
      "outputs": [
        {
          "output_type": "stream",
          "name": "stdout",
          "text": [
            "hi ('Hello',)\n",
            "1\n",
            "Hello\n",
            "hi ('Hello', 'World')\n",
            "2\n",
            "Hello\n",
            "World\n",
            "hi ('A',)\n",
            "1\n",
            "A\n",
            "hi ('AB',)\n",
            "1\n",
            "AB\n",
            "True\n"
          ]
        }
      ]
    },
    {
      "cell_type": "code",
      "source": [
        "args=(\"Hr\",)\n",
        "len(args)"
      ],
      "metadata": {
        "colab": {
          "base_uri": "https://localhost:8080/"
        },
        "id": "j2yxRre_hmVE",
        "outputId": "5bff7fec-f43f-4d61-b38d-2befd4bf1c19"
      },
      "id": "j2yxRre_hmVE",
      "execution_count": null,
      "outputs": [
        {
          "output_type": "execute_result",
          "data": {
            "text/plain": [
              "1"
            ]
          },
          "metadata": {},
          "execution_count": 21
        }
      ]
    },
    {
      "cell_type": "code",
      "source": [
        "args[1]"
      ],
      "metadata": {
        "colab": {
          "base_uri": "https://localhost:8080/",
          "height": 36
        },
        "id": "mriRq0Sxhv84",
        "outputId": "c051a061-0871-40db-e19e-304598c0352e"
      },
      "id": "mriRq0Sxhv84",
      "execution_count": null,
      "outputs": [
        {
          "output_type": "execute_result",
          "data": {
            "text/plain": [
              "'r'"
            ],
            "application/vnd.google.colaboratory.intrinsic+json": {
              "type": "string"
            }
          },
          "metadata": {},
          "execution_count": 20
        }
      ]
    },
    {
      "cell_type": "code",
      "source": [
        "len(args)==1"
      ],
      "metadata": {
        "colab": {
          "base_uri": "https://localhost:8080/"
        },
        "id": "8UkCzhnWh5US",
        "outputId": "d24c16be-6fa3-4510-89f9-70eb23ae5b78"
      },
      "id": "8UkCzhnWh5US",
      "execution_count": null,
      "outputs": [
        {
          "output_type": "execute_result",
          "data": {
            "text/plain": [
              "True"
            ]
          },
          "metadata": {},
          "execution_count": 24
        }
      ]
    },
    {
      "cell_type": "code",
      "source": [
        "# Check if an object is an instance of a specific class\n",
        "x = 5\n",
        "print(isinstance(x, int))  # True\n",
        "print(isinstance(x, str))  # False"
      ],
      "metadata": {
        "colab": {
          "base_uri": "https://localhost:8080/"
        },
        "id": "xGIGWjZ2y2Qp",
        "outputId": "11b7707f-cb99-47df-d34c-dc2eb372bdba"
      },
      "id": "xGIGWjZ2y2Qp",
      "execution_count": null,
      "outputs": [
        {
          "output_type": "stream",
          "name": "stdout",
          "text": [
            "True\n",
            "False\n"
          ]
        }
      ]
    },
    {
      "cell_type": "code",
      "source": [
        "class MyClass:\n",
        "    def my_method(self, data):\n",
        "        if isinstance(data, list):\n",
        "            # Handle the case when data is a list\n",
        "            for item in data:\n",
        "                print(item)\n",
        "        elif isinstance(data, str):\n",
        "            # Handle the case when data is a string\n",
        "            print(data)\n",
        "        else:\n",
        "            print(\"Invalid data type\")\n",
        "\n",
        "my_object = MyClass()\n",
        "my_object.my_method([1, 2, 3])  # Prints each item on a new line\n",
        "my_object.my_method(\"Hello, World!\")  # Prints: Hello, World!\n"
      ],
      "metadata": {
        "colab": {
          "base_uri": "https://localhost:8080/"
        },
        "id": "Wsg-OTpByVHL",
        "outputId": "22425c2c-f650-49ad-d7b3-873d95ac9e34"
      },
      "id": "Wsg-OTpByVHL",
      "execution_count": null,
      "outputs": [
        {
          "output_type": "stream",
          "name": "stdout",
          "text": [
            "1\n",
            "2\n",
            "3\n",
            "Hello, World!\n"
          ]
        }
      ]
    },
    {
      "cell_type": "code",
      "source": [
        "class MyClass:\n",
        "    def my_method(self, data):\n",
        "        if isinstance(data, list):\n",
        "            # Handle the case when data is a list\n",
        "            for item in data:\n",
        "                print(item)\n",
        "        elif isinstance(data, str):\n",
        "            # Handle the case when data is a string\n",
        "            print(data)\n",
        "        else:\n",
        "            print(\"Invalid data type\")\n",
        "\n",
        "my_object = MyClass()\n",
        "my_object.my_method([1, 2, 3])  # Prints each item on a new line\n",
        "my_object.my_method(\"Hello, World!\")\n",
        "my_object.my_method(3)  # Prints: Hello, World!\n"
      ],
      "metadata": {
        "id": "OBMSF73Iygff",
        "colab": {
          "base_uri": "https://localhost:8080/"
        },
        "outputId": "74628e2c-fb36-41a6-d890-8b147c781078"
      },
      "id": "OBMSF73Iygff",
      "execution_count": null,
      "outputs": [
        {
          "output_type": "stream",
          "name": "stdout",
          "text": [
            "1\n",
            "2\n",
            "3\n",
            "Hello, World!\n",
            "Invalid data type\n"
          ]
        }
      ]
    },
    {
      "cell_type": "markdown",
      "source": [
        "**method_overriding**"
      ],
      "metadata": {
        "id": "TAjzQJRPbbQA"
      },
      "id": "TAjzQJRPbbQA"
    },
    {
      "cell_type": "code",
      "source": [
        "#we write same method in the both classes,parent class and child class then the parent class's method is not avilable to the child class\n",
        "#child class method replacing the parents class method\n",
        "# used when programmer want to modify the existing behavior of a method"
      ],
      "metadata": {
        "id": "b2eMOAidzDN4"
      },
      "id": "b2eMOAidzDN4",
      "execution_count": null,
      "outputs": []
    },
    {
      "cell_type": "code",
      "source": [
        "class add:\n",
        "  def result(self,a,b):\n",
        "    print(\"addition\",a+b)\n",
        "class multi(add):\n",
        "  def result(self,a,b):\n",
        "    print(\"multiplication:\",a*b)\n",
        "m=multi()\n",
        "m.result(10,20)"
      ],
      "metadata": {
        "id": "mE8DhyYgzDRP",
        "colab": {
          "base_uri": "https://localhost:8080/"
        },
        "outputId": "149142e7-1b52-42c6-c31a-2d956da683d6"
      },
      "id": "mE8DhyYgzDRP",
      "execution_count": null,
      "outputs": [
        {
          "output_type": "stream",
          "name": "stdout",
          "text": [
            "multiplication: 200\n"
          ]
        }
      ]
    },
    {
      "cell_type": "code",
      "source": [
        "class add:\n",
        "  def result(self,a,b):\n",
        "    print(\"addition\",a+b)\n",
        "class multi(add):\n",
        "  def result(self,a,b):\n",
        "    print(\"multiplication:\",a*b)\n",
        "m=add()\n",
        "m.result(10,20)"
      ],
      "metadata": {
        "id": "YSevl9tJzDUX",
        "colab": {
          "base_uri": "https://localhost:8080/"
        },
        "outputId": "700b2006-0ff4-48ed-cead-9dd6d5df2c92"
      },
      "id": "YSevl9tJzDUX",
      "execution_count": null,
      "outputs": [
        {
          "output_type": "stream",
          "name": "stdout",
          "text": [
            "addition 30\n"
          ]
        }
      ]
    },
    {
      "cell_type": "code",
      "source": [
        "class add:\n",
        "  def result(self,a,b):\n",
        "    print(\"addition\",a+b)\n",
        "class multi(add):\n",
        "  pass\n",
        "\n",
        "m=multi()\n",
        "m.result(10,20)"
      ],
      "metadata": {
        "colab": {
          "base_uri": "https://localhost:8080/"
        },
        "id": "JRqxp101dCo6",
        "outputId": "eebdaca7-9bae-4f73-a64a-5687a8bb5e08"
      },
      "id": "JRqxp101dCo6",
      "execution_count": null,
      "outputs": [
        {
          "output_type": "stream",
          "name": "stdout",
          "text": [
            "addition 30\n"
          ]
        }
      ]
    },
    {
      "cell_type": "code",
      "source": [
        "#super()"
      ],
      "metadata": {
        "id": "zTPSWTwng0q_"
      },
      "id": "zTPSWTwng0q_",
      "execution_count": null,
      "outputs": []
    },
    {
      "cell_type": "code",
      "source": [
        "#same method in both classes,parent and child class then the parent class's method is not avliable to the child class\n",
        "#only child class method is accessiable which means child class's  methodnis replacing parents class's method\n",
        "#super()\n",
        "#use when to parent class's method from the child class"
      ],
      "metadata": {
        "id": "RIWf6Q4Pg0v2"
      },
      "id": "RIWf6Q4Pg0v2",
      "execution_count": null,
      "outputs": []
    },
    {
      "cell_type": "code",
      "source": [
        "class add:\n",
        "  def result(self,x,y):\n",
        "    print(\"addition\",x+y)\n",
        "class multi(add):\n",
        "  def result(self,a,b):\n",
        "    super().result(3,4)#calling parent class's method\n",
        "    print(\"multiplication:\",a*b)\n",
        "m=multi()\n",
        "m.result(10,20)"
      ],
      "metadata": {
        "colab": {
          "base_uri": "https://localhost:8080/"
        },
        "id": "OT169Qd-dCsU",
        "outputId": "57a26eed-cf36-4001-e480-a4c1ad0c55a0"
      },
      "id": "OT169Qd-dCsU",
      "execution_count": null,
      "outputs": [
        {
          "output_type": "stream",
          "name": "stdout",
          "text": [
            "addition 7\n",
            "multiplication: 200\n"
          ]
        }
      ]
    },
    {
      "cell_type": "code",
      "source": [
        "class add:\n",
        "  def result(self,x,y):\n",
        "    print(\"addition\",x+y)\n",
        "class multi(add):\n",
        "  def result(self,a,b):\n",
        "    super().result(a,b)#calling parent class's method\n",
        "    print(\"multiplication:\",a*b)\n",
        "m=multi()\n",
        "m.result(10,20)"
      ],
      "metadata": {
        "colab": {
          "base_uri": "https://localhost:8080/"
        },
        "id": "pHe9bGHyNwht",
        "outputId": "bfefb37b-77c5-40c7-81e5-ae02f8825b64"
      },
      "id": "pHe9bGHyNwht",
      "execution_count": null,
      "outputs": [
        {
          "output_type": "stream",
          "name": "stdout",
          "text": [
            "addition 30\n",
            "multiplication: 200\n"
          ]
        }
      ]
    },
    {
      "cell_type": "markdown",
      "source": [
        "**Operator_overloading**"
      ],
      "metadata": {
        "id": "OrG72vKKiSKQ"
      },
      "id": "OrG72vKKiSKQ"
    },
    {
      "cell_type": "code",
      "source": [
        "# Operator overloading is a feature in Python that allows you to define how operators such as +, -, *, /, and others work for objects of your own custom classes."
      ],
      "metadata": {
        "id": "DfaTmJTJnWbF"
      },
      "id": "DfaTmJTJnWbF",
      "execution_count": null,
      "outputs": []
    },
    {
      "cell_type": "code",
      "source": [
        "print(10+29)"
      ],
      "metadata": {
        "colab": {
          "base_uri": "https://localhost:8080/"
        },
        "id": "qU_GrpBhfGSG",
        "outputId": "ea00c10a-3916-41cd-ee4e-04043ee11072"
      },
      "id": "qU_GrpBhfGSG",
      "execution_count": null,
      "outputs": [
        {
          "output_type": "stream",
          "name": "stdout",
          "text": [
            "39\n"
          ]
        }
      ]
    },
    {
      "cell_type": "code",
      "source": [
        "# int.__add__(self,other)"
      ],
      "metadata": {
        "id": "iGRPA_tEiQ-6"
      },
      "id": "iGRPA_tEiQ-6",
      "execution_count": null,
      "outputs": []
    },
    {
      "cell_type": "code",
      "source": [
        "int.__add__(10,20)"
      ],
      "metadata": {
        "colab": {
          "base_uri": "https://localhost:8080/"
        },
        "id": "mwVIqBSDiRBa",
        "outputId": "76ecb823-722f-42a9-c87b-1c86f083eb99"
      },
      "id": "mwVIqBSDiRBa",
      "execution_count": null,
      "outputs": [
        {
          "output_type": "execute_result",
          "data": {
            "text/plain": [
              "30"
            ]
          },
          "metadata": {},
          "execution_count": 11
        }
      ]
    },
    {
      "cell_type": "code",
      "source": [
        "'''\n",
        "__add__(self,other)\n",
        "__sub__(self,other)\n",
        "__mul__(self,other)\n",
        "'''"
      ],
      "metadata": {
        "id": "rqNCxY6jiRD_"
      },
      "id": "rqNCxY6jiRD_",
      "execution_count": null,
      "outputs": []
    },
    {
      "cell_type": "code",
      "source": [
        "print(\"heloo\"+\"world\")"
      ],
      "metadata": {
        "colab": {
          "base_uri": "https://localhost:8080/"
        },
        "id": "1Vj8D7C9iRGZ",
        "outputId": "25bda2e2-aadd-4aed-a020-3d511aefc9a2"
      },
      "id": "1Vj8D7C9iRGZ",
      "execution_count": null,
      "outputs": [
        {
          "output_type": "stream",
          "name": "stdout",
          "text": [
            "helooworld\n"
          ]
        }
      ]
    },
    {
      "cell_type": "code",
      "source": [
        "str.__add__(\"hello\",\"sunil\")"
      ],
      "metadata": {
        "colab": {
          "base_uri": "https://localhost:8080/",
          "height": 36
        },
        "id": "Gd-fre7DMjyr",
        "outputId": "e436a9d3-04c8-4d47-8dbb-8c77f4a7dd3e"
      },
      "id": "Gd-fre7DMjyr",
      "execution_count": null,
      "outputs": [
        {
          "output_type": "execute_result",
          "data": {
            "text/plain": [
              "'hellosunil'"
            ],
            "application/vnd.google.colaboratory.intrinsic+json": {
              "type": "string"
            }
          },
          "metadata": {},
          "execution_count": 29
        }
      ]
    },
    {
      "cell_type": "code",
      "source": [
        "int.__sub__(30,23)"
      ],
      "metadata": {
        "colab": {
          "base_uri": "https://localhost:8080/"
        },
        "id": "3Op5s5f_jgLl",
        "outputId": "e4386dba-12da-4f6b-dfee-04b4809f4454"
      },
      "id": "3Op5s5f_jgLl",
      "execution_count": null,
      "outputs": [
        {
          "output_type": "execute_result",
          "data": {
            "text/plain": [
              "7"
            ]
          },
          "metadata": {},
          "execution_count": 28
        }
      ]
    },
    {
      "cell_type": "code",
      "source": [],
      "metadata": {
        "id": "6hg1SifxjgPA"
      },
      "id": "6hg1SifxjgPA",
      "execution_count": null,
      "outputs": []
    },
    {
      "cell_type": "code",
      "source": [
        "print(\"b\">\"a\")"
      ],
      "metadata": {
        "id": "vBMF8Rs1iRJW",
        "colab": {
          "base_uri": "https://localhost:8080/"
        },
        "outputId": "6835cee7-ae42-4aba-a1ac-dfd1b9d995a0"
      },
      "id": "vBMF8Rs1iRJW",
      "execution_count": null,
      "outputs": [
        {
          "output_type": "stream",
          "name": "stdout",
          "text": [
            "True\n"
          ]
        }
      ]
    },
    {
      "cell_type": "code",
      "source": [
        "ord(\"a\")"
      ],
      "metadata": {
        "id": "bVYAsvCFiRMl",
        "colab": {
          "base_uri": "https://localhost:8080/"
        },
        "outputId": "105d2cec-2055-4428-a86e-20177394570d"
      },
      "id": "bVYAsvCFiRMl",
      "execution_count": null,
      "outputs": [
        {
          "output_type": "execute_result",
          "data": {
            "text/plain": [
              "97"
            ]
          },
          "metadata": {},
          "execution_count": 34
        }
      ]
    },
    {
      "cell_type": "code",
      "source": [
        "ord(\"A\")"
      ],
      "metadata": {
        "id": "lAKArxG_iRPX",
        "colab": {
          "base_uri": "https://localhost:8080/"
        },
        "outputId": "293cb204-e299-430a-8ab9-cf549476e4c0"
      },
      "id": "lAKArxG_iRPX",
      "execution_count": null,
      "outputs": [
        {
          "output_type": "execute_result",
          "data": {
            "text/plain": [
              "65"
            ]
          },
          "metadata": {},
          "execution_count": 35
        }
      ]
    },
    {
      "cell_type": "code",
      "source": [
        "print(10+\"sunil\")"
      ],
      "metadata": {
        "id": "q8IFoe6wou7K",
        "colab": {
          "base_uri": "https://localhost:8080/",
          "height": 175
        },
        "outputId": "08dc8748-3385-43e1-d420-d96e1e23343a"
      },
      "id": "q8IFoe6wou7K",
      "execution_count": null,
      "outputs": [
        {
          "output_type": "error",
          "ename": "TypeError",
          "evalue": "ignored",
          "traceback": [
            "\u001b[0;31m---------------------------------------------------------------------------\u001b[0m",
            "\u001b[0;31mTypeError\u001b[0m                                 Traceback (most recent call last)",
            "\u001b[0;32m<ipython-input-28-524ed7bfec66>\u001b[0m in \u001b[0;36m<cell line: 1>\u001b[0;34m()\u001b[0m\n\u001b[0;32m----> 1\u001b[0;31m \u001b[0mprint\u001b[0m\u001b[0;34m(\u001b[0m\u001b[0;36m10\u001b[0m\u001b[0;34m+\u001b[0m\u001b[0;34m\"sunil\"\u001b[0m\u001b[0;34m)\u001b[0m\u001b[0;34m\u001b[0m\u001b[0;34m\u001b[0m\u001b[0m\n\u001b[0m",
            "\u001b[0;31mTypeError\u001b[0m: unsupported operand type(s) for +: 'int' and 'str'"
          ]
        }
      ]
    },
    {
      "cell_type": "code",
      "source": [],
      "metadata": {
        "id": "XgIZkePUMfFI"
      },
      "id": "XgIZkePUMfFI",
      "execution_count": null,
      "outputs": []
    }
  ],
  "metadata": {
    "colab": {
      "provenance": []
    },
    "kernelspec": {
      "display_name": "Python 3 (ipykernel)",
      "language": "python",
      "name": "python3"
    },
    "language_info": {
      "codemirror_mode": {
        "name": "ipython",
        "version": 3
      },
      "file_extension": ".py",
      "mimetype": "text/x-python",
      "name": "python",
      "nbconvert_exporter": "python",
      "pygments_lexer": "ipython3",
      "version": "3.10.8"
    }
  },
  "nbformat": 4,
  "nbformat_minor": 5
}